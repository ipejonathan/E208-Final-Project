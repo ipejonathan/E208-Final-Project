{
 "cells": [
  {
   "cell_type": "code",
   "execution_count": 1,
   "metadata": {},
   "outputs": [],
   "source": [
    "from datasets import Dataset\n",
    "\n",
    "def my_gen():\n",
    "    f1 = open(\"labeled_data_sentences.txt\", \"r\")\n",
    "    f2 = open(\"labeled_data_labels.txt\", \"r\")\n",
    "\n",
    "    sentences = f1.readlines()\n",
    "    labels = f2.readlines()\n",
    "\n",
    "    for i in range(len(sentences)):\n",
    "        yield {\"text\": sentences[i][:len(sentences[i])-1],\n",
    "               \"label\": labels[i][:len(labels[i])-1]}"
   ]
  },
  {
   "cell_type": "code",
   "execution_count": 2,
   "metadata": {},
   "outputs": [
    {
     "name": "stderr",
     "output_type": "stream",
     "text": [
      "Found cached dataset generator (C:/Users/Jonathan Ipe/.cache/huggingface/datasets/generator/default-a52d2eba600dcdeb/0.0.0)\n"
     ]
    }
   ],
   "source": [
    "dataset = Dataset.from_generator(my_gen)"
   ]
  },
  {
   "cell_type": "code",
   "execution_count": 3,
   "metadata": {},
   "outputs": [
    {
     "name": "stderr",
     "output_type": "stream",
     "text": [
      "Loading cached processed dataset at C:\\Users\\Jonathan Ipe\\.cache\\huggingface\\datasets\\generator\\default-a52d2eba600dcdeb\\0.0.0\\cache-7ab10ce251b09a87.arrow\n"
     ]
    }
   ],
   "source": [
    "dataset = dataset.class_encode_column(\"label\")"
   ]
  },
  {
   "cell_type": "code",
   "execution_count": 9,
   "metadata": {},
   "outputs": [
    {
     "data": {
      "text/plain": [
       "{'text': '¯¯±¯Ï¯¯¯ ¯¯³¯¯¯¯¯ ¯¯°¯¯´¯¯ ¯į¯¯¯¯¯¯ ¯¯°¯¯·¯¯ ¯¯±¯¯¯¯¯ ¯¯³¯į¿¯¯ ¯¯·¯¯¯¯¯ ¯¯±¯¯¯¯¯ ¯¯³¯¯¯¯¯ ¯¯·¯¯¿¯¯ ¯¯¿¯¯¯¯¯ ¯¯·¯¯¯¯¯ ¯¯³¯¯¯¯¯ ¯¯±¯¯·¯¯ ¯¯°¯¯¯¯¯ ¯į¯¯¯¯¯¯ ¯ï¯¯¯¯¯¯ ¯į¯¯¯·¯¯ ¯Ï¯¯¯¯¯¯ ¯ï¯¯¯¯¯¯ ¯į¯¯¯¯¯¯ ¯¯°¯¯³¯¯ ¯¯±¯¯¯¯¯ ¯į¯¯¯¯¯¯ ¯¯°¯¯¯¯¯ ¯ï¯¯¯³¯¯ ¯¯°¯¯¯¯¯ ¯į¯¯¯¯¯¯ ¯¯°¯¯¯¯¯ ¯¯±¯¯±¯¯ ¯¯³¯¯¯¯¯ ¯¯·¯¯°¯¯ ¯¯±¯¯¯¯¯ ¯¯¿¯Ŀ¯¯¯ ¯¯Ï¯¯¯¯¯ ¯¯·¯Ï¯¯¯ ¯¯¿¯¯¯¯¯ ¯¯Ï¯·°¯¯ ¯¯ï¯¯¯¯¯ ¯¯¿¯¯¯¯¯ ¯¯Ï¯¯¯¯¯ ¯¯¯¯ů³¯¯ ¯¯·¯³°¯¯ ¯¯¿¯¯¯¯¯ ¯¯³¯¯¯¯¯ ¯¯·¯¯¯¯¯ ¯¯¿¯ĳ¯¯¯ ¯¯Ï¯¿¯¯¯ ¯¯·¯·¯¯¯ ¯¯¿¯³¯¯¯ ¯¯³¯Ï°¯¯ ¯¯¯¯ï¯¯¯ ¯¯·¯¿±¯¯ ¯¯¯¯Ï¯¯¯ ¯¯¿¯×¯¯¯ ¯¯¯¯¯°¯¯ ¯¯¿¯³¯¯¯ ¯¯¯¯į¯¯¯ ¯ï¯¯¯°¯¯ ¯¯¯¯¿¯¯¯ ¯¯¿¯·¯¯¯ ¯¯·¯³¯¯¯ ¯¯¿¯·¯¯¯',\n",
       " 'label': 0}"
      ]
     },
     "execution_count": 9,
     "metadata": {},
     "output_type": "execute_result"
    }
   ],
   "source": [
    "dataset[7726]"
   ]
  },
  {
   "cell_type": "code",
   "execution_count": 10,
   "metadata": {},
   "outputs": [
    {
     "name": "stderr",
     "output_type": "stream",
     "text": [
      "Special tokens have been added in the vocabulary, make sure the associated word embeddings are fine-tuned or trained.\n"
     ]
    }
   ],
   "source": [
    "from transformers import GPT2TokenizerFast\n",
    "\n",
    "tokenizer = GPT2TokenizerFast.from_pretrained(\"../../BPEtokenizer\", max_len=512)\n",
    "# tokenizer.pad_token = tokenizer.eos_token"
   ]
  },
  {
   "cell_type": "code",
   "execution_count": 11,
   "metadata": {},
   "outputs": [
    {
     "data": {
      "text/plain": [
       "1"
      ]
     },
     "execution_count": 11,
     "metadata": {},
     "output_type": "execute_result"
    }
   ],
   "source": [
    "tokenizer.add_special_tokens({'pad_token': '[PAD]'})"
   ]
  },
  {
   "cell_type": "code",
   "execution_count": 12,
   "metadata": {},
   "outputs": [],
   "source": [
    "def tokenize_function(examples):\n",
    "    return tokenizer(examples[\"text\"], padding=\"max_length\", truncation=True)"
   ]
  },
  {
   "cell_type": "code",
   "execution_count": 13,
   "metadata": {},
   "outputs": [
    {
     "name": "stderr",
     "output_type": "stream",
     "text": [
      "Loading cached processed dataset at C:\\Users\\Jonathan Ipe\\.cache\\huggingface\\datasets\\generator\\default-a52d2eba600dcdeb\\0.0.0\\cache-fc878a4293cadfe3.arrow\n"
     ]
    }
   ],
   "source": [
    "tokenized_datasets = dataset.map(tokenize_function, batched=True)"
   ]
  },
  {
   "cell_type": "code",
   "execution_count": 14,
   "metadata": {},
   "outputs": [
    {
     "data": {
      "text/plain": [
       "DatasetDict({\n",
       "    train: Dataset({\n",
       "        features: ['text', 'label', 'input_ids', 'attention_mask'],\n",
       "        num_rows: 32004\n",
       "    })\n",
       "    test: Dataset({\n",
       "        features: ['text', 'label', 'input_ids', 'attention_mask'],\n",
       "        num_rows: 8001\n",
       "    })\n",
       "})"
      ]
     },
     "execution_count": 14,
     "metadata": {},
     "output_type": "execute_result"
    }
   ],
   "source": [
    "tokenized_datasets = tokenized_datasets.train_test_split(test_size=0.2)\n",
    "tokenized_datasets"
   ]
  },
  {
   "cell_type": "code",
   "execution_count": 15,
   "metadata": {},
   "outputs": [
    {
     "name": "stderr",
     "output_type": "stream",
     "text": [
      "Some weights of GPT2ForSequenceClassification were not initialized from the model checkpoint at ../../models/GPT2-Pretrained and are newly initialized: ['score.weight']\n",
      "You should probably TRAIN this model on a down-stream task to be able to use it for predictions and inference.\n"
     ]
    }
   ],
   "source": [
    "from transformers import AutoModelForSequenceClassification\n",
    "\n",
    "model = AutoModelForSequenceClassification.from_pretrained(\"../../models/GPT2-Pretrained\", num_labels=9)"
   ]
  },
  {
   "cell_type": "code",
   "execution_count": 16,
   "metadata": {},
   "outputs": [],
   "source": [
    "model.config.pad_token_id = model.config.eos_token_id"
   ]
  },
  {
   "cell_type": "code",
   "execution_count": 17,
   "metadata": {},
   "outputs": [
    {
     "name": "stderr",
     "output_type": "stream",
     "text": [
      "C:\\Temp\\ipykernel_25464\\2607597888.py:4: FutureWarning: load_metric is deprecated and will be removed in the next major version of datasets. Use 'evaluate.load' instead, from the new library 🤗 Evaluate: https://huggingface.co/docs/evaluate\n",
      "  metric = load_metric(\"accuracy\")\n"
     ]
    }
   ],
   "source": [
    "import numpy as np\n",
    "from datasets import load_metric\n",
    "\n",
    "metric = load_metric(\"accuracy\")"
   ]
  },
  {
   "cell_type": "code",
   "execution_count": 18,
   "metadata": {},
   "outputs": [],
   "source": [
    "def compute_metrics(eval_pred):\n",
    "    logits, labels = eval_pred\n",
    "    predictions = np.argmax(logits, axis=-1)\n",
    "    # predictions = np.argmax(logits, axis=1)\n",
    "    return metric.compute(predictions=predictions, references=labels)"
   ]
  },
  {
   "cell_type": "code",
   "execution_count": 21,
   "metadata": {},
   "outputs": [
    {
     "data": {
      "text/plain": []
     },
     "execution_count": 21,
     "metadata": {},
     "output_type": "execute_result"
    }
   ],
   "source": [
    "import wandb\n",
    "wandb.init(mode=\"disabled\")"
   ]
  },
  {
   "cell_type": "code",
   "execution_count": 22,
   "metadata": {},
   "outputs": [],
   "source": [
    "from transformers import TrainingArguments, Trainer\n",
    "\n",
    "training_args = TrainingArguments(output_dir=\"../../models/GPT2-finetuned\",\n",
    "                                  overwrite_output_dir=True, \n",
    "                                  evaluation_strategy=\"steps\",\n",
    "                                  num_train_epochs=1,\n",
    "                                  per_device_train_batch_size=8,\n",
    "                                  per_device_eval_batch_size=8,\n",
    "                                  eval_steps=250,\n",
    "                                  logging_steps=250,\n",
    ")\n",
    "\n",
    "trainer = Trainer(\n",
    "    model=model,\n",
    "    args=training_args,\n",
    "    train_dataset=tokenized_datasets[\"train\"],\n",
    "    eval_dataset=tokenized_datasets[\"test\"],\n",
    "    compute_metrics=compute_metrics,\n",
    ")"
   ]
  },
  {
   "cell_type": "code",
   "execution_count": 23,
   "metadata": {},
   "outputs": [
    {
     "data": {
      "application/vnd.jupyter.widget-view+json": {
       "model_id": "6557145e65bb42ec8da9d8596b86c7e6",
       "version_major": 2,
       "version_minor": 0
      },
      "text/plain": [
       "  0%|          | 0/4001 [00:00<?, ?it/s]"
      ]
     },
     "metadata": {},
     "output_type": "display_data"
    },
    {
     "name": "stdout",
     "output_type": "stream",
     "text": [
      "{'loss': 2.1024, 'learning_rate': 4.687578105473632e-05, 'epoch': 0.06}\n"
     ]
    },
    {
     "data": {
      "application/vnd.jupyter.widget-view+json": {
       "model_id": "b009cf1ed07e4c469cf8df47dd708bce",
       "version_major": 2,
       "version_minor": 0
      },
      "text/plain": [
       "  0%|          | 0/1001 [00:00<?, ?it/s]"
      ]
     },
     "metadata": {},
     "output_type": "display_data"
    },
    {
     "name": "stdout",
     "output_type": "stream",
     "text": [
      "{'eval_loss': 1.9535741806030273, 'eval_accuracy': 0.2237220347456568, 'eval_runtime': 323.9982, 'eval_samples_per_second': 24.695, 'eval_steps_per_second': 3.09, 'epoch': 0.06}\n",
      "{'loss': 1.932, 'learning_rate': 4.375156210947263e-05, 'epoch': 0.12}\n"
     ]
    },
    {
     "data": {
      "application/vnd.jupyter.widget-view+json": {
       "model_id": "40d16c56736d489680dc5319f9c39d84",
       "version_major": 2,
       "version_minor": 0
      },
      "text/plain": [
       "  0%|          | 0/1001 [00:00<?, ?it/s]"
      ]
     },
     "metadata": {},
     "output_type": "display_data"
    },
    {
     "name": "stdout",
     "output_type": "stream",
     "text": [
      "{'eval_loss': 1.894191861152649, 'eval_accuracy': 0.3020872390951131, 'eval_runtime': 231.374, 'eval_samples_per_second': 34.58, 'eval_steps_per_second': 4.326, 'epoch': 0.12}\n",
      "{'loss': 1.8302, 'learning_rate': 4.0627343164208945e-05, 'epoch': 0.19}\n"
     ]
    },
    {
     "data": {
      "application/vnd.jupyter.widget-view+json": {
       "model_id": "f95875f99d4b44f095773420127aae16",
       "version_major": 2,
       "version_minor": 0
      },
      "text/plain": [
       "  0%|          | 0/1001 [00:00<?, ?it/s]"
      ]
     },
     "metadata": {},
     "output_type": "display_data"
    },
    {
     "name": "stdout",
     "output_type": "stream",
     "text": [
      "{'eval_loss': 1.8001141548156738, 'eval_accuracy': 0.34583177102862145, 'eval_runtime': 228.8523, 'eval_samples_per_second': 34.961, 'eval_steps_per_second': 4.374, 'epoch': 0.19}\n",
      "{'loss': 1.7355, 'learning_rate': 3.7503124218945266e-05, 'epoch': 0.25}\n"
     ]
    },
    {
     "data": {
      "application/vnd.jupyter.widget-view+json": {
       "model_id": "339f9497437c4e3a8597f8c0064ba7f6",
       "version_major": 2,
       "version_minor": 0
      },
      "text/plain": [
       "  0%|          | 0/1001 [00:00<?, ?it/s]"
      ]
     },
     "metadata": {},
     "output_type": "display_data"
    },
    {
     "name": "stdout",
     "output_type": "stream",
     "text": [
      "{'eval_loss': 1.6004966497421265, 'eval_accuracy': 0.4255718035245594, 'eval_runtime': 279.9183, 'eval_samples_per_second': 28.583, 'eval_steps_per_second': 3.576, 'epoch': 0.25}\n",
      "{'loss': 1.6161, 'learning_rate': 3.437890527368158e-05, 'epoch': 0.31}\n"
     ]
    },
    {
     "data": {
      "application/vnd.jupyter.widget-view+json": {
       "model_id": "ca425715a7f34a9a8cf5e64ab90dad9f",
       "version_major": 2,
       "version_minor": 0
      },
      "text/plain": [
       "  0%|          | 0/1001 [00:00<?, ?it/s]"
      ]
     },
     "metadata": {},
     "output_type": "display_data"
    },
    {
     "name": "stdout",
     "output_type": "stream",
     "text": [
      "{'eval_loss': 1.5390918254852295, 'eval_accuracy': 0.4574428196475441, 'eval_runtime': 337.4883, 'eval_samples_per_second': 23.707, 'eval_steps_per_second': 2.966, 'epoch': 0.31}\n",
      "{'loss': 1.5118, 'learning_rate': 3.1254686328417895e-05, 'epoch': 0.37}\n"
     ]
    },
    {
     "data": {
      "application/vnd.jupyter.widget-view+json": {
       "model_id": "adf5399de04a4dca9884fb960e1f5889",
       "version_major": 2,
       "version_minor": 0
      },
      "text/plain": [
       "  0%|          | 0/1001 [00:00<?, ?it/s]"
      ]
     },
     "metadata": {},
     "output_type": "display_data"
    },
    {
     "name": "stdout",
     "output_type": "stream",
     "text": [
      "{'eval_loss': 1.4712923765182495, 'eval_accuracy': 0.47794025746781654, 'eval_runtime': 120.1283, 'eval_samples_per_second': 66.604, 'eval_steps_per_second': 8.333, 'epoch': 0.37}\n",
      "{'loss': 1.5079, 'learning_rate': 2.8130467383154213e-05, 'epoch': 0.44}\n"
     ]
    },
    {
     "data": {
      "application/vnd.jupyter.widget-view+json": {
       "model_id": "491fe2036d044aaaa32c27bd4f55904a",
       "version_major": 2,
       "version_minor": 0
      },
      "text/plain": [
       "  0%|          | 0/1001 [00:00<?, ?it/s]"
      ]
     },
     "metadata": {},
     "output_type": "display_data"
    },
    {
     "name": "stdout",
     "output_type": "stream",
     "text": [
      "{'eval_loss': 1.4551591873168945, 'eval_accuracy': 0.49268841394825647, 'eval_runtime': 117.5426, 'eval_samples_per_second': 68.069, 'eval_steps_per_second': 8.516, 'epoch': 0.44}\n",
      "{'loss': 1.4432, 'learning_rate': 2.5006248437890527e-05, 'epoch': 0.5}\n"
     ]
    },
    {
     "data": {
      "application/vnd.jupyter.widget-view+json": {
       "model_id": "bfa56172ebfb46499aef9c41123fa948",
       "version_major": 2,
       "version_minor": 0
      },
      "text/plain": [
       "  0%|          | 0/1001 [00:00<?, ?it/s]"
      ]
     },
     "metadata": {},
     "output_type": "display_data"
    },
    {
     "name": "stdout",
     "output_type": "stream",
     "text": [
      "{'eval_loss': 1.37241530418396, 'eval_accuracy': 0.51843519560055, 'eval_runtime': 110.9354, 'eval_samples_per_second': 72.123, 'eval_steps_per_second': 9.023, 'epoch': 0.5}\n",
      "{'loss': 1.4013, 'learning_rate': 2.1882029492626845e-05, 'epoch': 0.56}\n"
     ]
    },
    {
     "data": {
      "application/vnd.jupyter.widget-view+json": {
       "model_id": "53277e53938740d59fa69c46b1c77669",
       "version_major": 2,
       "version_minor": 0
      },
      "text/plain": [
       "  0%|          | 0/1001 [00:00<?, ?it/s]"
      ]
     },
     "metadata": {},
     "output_type": "display_data"
    },
    {
     "name": "stdout",
     "output_type": "stream",
     "text": [
      "{'eval_loss': 1.3722577095031738, 'eval_accuracy': 0.5179352580927384, 'eval_runtime': 132.7487, 'eval_samples_per_second': 60.272, 'eval_steps_per_second': 7.541, 'epoch': 0.56}\n",
      "{'loss': 1.2714, 'learning_rate': 1.8757810547363162e-05, 'epoch': 0.62}\n"
     ]
    },
    {
     "data": {
      "application/vnd.jupyter.widget-view+json": {
       "model_id": "4842626204bd4d99ba2c65a70ad2624f",
       "version_major": 2,
       "version_minor": 0
      },
      "text/plain": [
       "  0%|          | 0/1001 [00:00<?, ?it/s]"
      ]
     },
     "metadata": {},
     "output_type": "display_data"
    },
    {
     "name": "stdout",
     "output_type": "stream",
     "text": [
      "{'eval_loss': 1.286491870880127, 'eval_accuracy': 0.5535558055243095, 'eval_runtime': 125.0776, 'eval_samples_per_second': 63.968, 'eval_steps_per_second': 8.003, 'epoch': 0.62}\n",
      "{'loss': 1.2729, 'learning_rate': 1.5633591602099477e-05, 'epoch': 0.69}\n"
     ]
    },
    {
     "data": {
      "application/vnd.jupyter.widget-view+json": {
       "model_id": "218addeb666240eca93d51f050d91104",
       "version_major": 2,
       "version_minor": 0
      },
      "text/plain": [
       "  0%|          | 0/1001 [00:00<?, ?it/s]"
      ]
     },
     "metadata": {},
     "output_type": "display_data"
    },
    {
     "name": "stdout",
     "output_type": "stream",
     "text": [
      "{'eval_loss': 1.2696741819381714, 'eval_accuracy': 0.5566804149481315, 'eval_runtime': 125.6711, 'eval_samples_per_second': 63.666, 'eval_steps_per_second': 7.965, 'epoch': 0.69}\n",
      "{'loss': 1.3154, 'learning_rate': 1.2509372656835791e-05, 'epoch': 0.75}\n"
     ]
    },
    {
     "data": {
      "application/vnd.jupyter.widget-view+json": {
       "model_id": "93c1da25cd3e42c0ac3573368fd878ba",
       "version_major": 2,
       "version_minor": 0
      },
      "text/plain": [
       "  0%|          | 0/1001 [00:00<?, ?it/s]"
      ]
     },
     "metadata": {},
     "output_type": "display_data"
    },
    {
     "name": "stdout",
     "output_type": "stream",
     "text": [
      "{'eval_loss': 1.2343831062316895, 'eval_accuracy': 0.5711786026746657, 'eval_runtime': 183.3372, 'eval_samples_per_second': 43.641, 'eval_steps_per_second': 5.46, 'epoch': 0.75}\n",
      "{'loss': 1.2553, 'learning_rate': 9.385153711572107e-06, 'epoch': 0.81}\n"
     ]
    },
    {
     "data": {
      "application/vnd.jupyter.widget-view+json": {
       "model_id": "b8cb8c3808f1442e9975248e356c8422",
       "version_major": 2,
       "version_minor": 0
      },
      "text/plain": [
       "  0%|          | 0/1001 [00:00<?, ?it/s]"
      ]
     },
     "metadata": {},
     "output_type": "display_data"
    },
    {
     "name": "stdout",
     "output_type": "stream",
     "text": [
      "{'eval_loss': 1.2018407583236694, 'eval_accuracy': 0.5833020872390952, 'eval_runtime': 125.6436, 'eval_samples_per_second': 63.68, 'eval_steps_per_second': 7.967, 'epoch': 0.81}\n",
      "{'loss': 1.2174, 'learning_rate': 6.260934766308422e-06, 'epoch': 0.87}\n"
     ]
    },
    {
     "data": {
      "application/vnd.jupyter.widget-view+json": {
       "model_id": "b5b0e43ca34742d98a186ae65ff2fee1",
       "version_major": 2,
       "version_minor": 0
      },
      "text/plain": [
       "  0%|          | 0/1001 [00:00<?, ?it/s]"
      ]
     },
     "metadata": {},
     "output_type": "display_data"
    },
    {
     "name": "stdout",
     "output_type": "stream",
     "text": [
      "{'eval_loss': 1.189359188079834, 'eval_accuracy': 0.5899262592175978, 'eval_runtime': 123.213, 'eval_samples_per_second': 64.936, 'eval_steps_per_second': 8.124, 'epoch': 0.87}\n",
      "{'loss': 1.2063, 'learning_rate': 3.136715821044739e-06, 'epoch': 0.94}\n"
     ]
    },
    {
     "data": {
      "application/vnd.jupyter.widget-view+json": {
       "model_id": "c49716f7b238402794fbc2cadb126ecc",
       "version_major": 2,
       "version_minor": 0
      },
      "text/plain": [
       "  0%|          | 0/1001 [00:00<?, ?it/s]"
      ]
     },
     "metadata": {},
     "output_type": "display_data"
    },
    {
     "name": "stdout",
     "output_type": "stream",
     "text": [
      "{'eval_loss': 1.1591697931289673, 'eval_accuracy': 0.5946756655418073, 'eval_runtime': 127.915, 'eval_samples_per_second': 62.549, 'eval_steps_per_second': 7.826, 'epoch': 0.94}\n",
      "{'loss': 1.2107, 'learning_rate': 1.2496875781054738e-08, 'epoch': 1.0}\n"
     ]
    },
    {
     "data": {
      "application/vnd.jupyter.widget-view+json": {
       "model_id": "3645c8f0dccb413c8f0270802dd7bb9f",
       "version_major": 2,
       "version_minor": 0
      },
      "text/plain": [
       "  0%|          | 0/1001 [00:00<?, ?it/s]"
      ]
     },
     "metadata": {},
     "output_type": "display_data"
    },
    {
     "name": "stdout",
     "output_type": "stream",
     "text": [
      "{'eval_loss': 1.1537926197052002, 'eval_accuracy': 0.5978002749656293, 'eval_runtime': 87.9862, 'eval_samples_per_second': 90.935, 'eval_steps_per_second': 11.377, 'epoch': 1.0}\n",
      "{'train_runtime': 5360.9652, 'train_samples_per_second': 5.97, 'train_steps_per_second': 0.746, 'train_loss': 1.4893368711414352, 'epoch': 1.0}\n"
     ]
    },
    {
     "data": {
      "text/plain": [
       "TrainOutput(global_step=4001, training_loss=1.4893368711414352, metrics={'train_runtime': 5360.9652, 'train_samples_per_second': 5.97, 'train_steps_per_second': 0.746, 'train_loss': 1.4893368711414352, 'epoch': 1.0})"
      ]
     },
     "execution_count": 23,
     "metadata": {},
     "output_type": "execute_result"
    }
   ],
   "source": [
    "trainer.train()"
   ]
  },
  {
   "cell_type": "code",
   "execution_count": 24,
   "metadata": {},
   "outputs": [],
   "source": [
    "trainer.save_model(\"../../models/GPT2-finetuned\")"
   ]
  },
  {
   "cell_type": "code",
   "execution_count": 36,
   "metadata": {},
   "outputs": [
    {
     "data": {
      "text/plain": [
       "[{'loss': 2.1024,\n",
       "  'learning_rate': 4.687578105473632e-05,\n",
       "  'epoch': 0.06,\n",
       "  'step': 250},\n",
       " {'eval_loss': 1.9535741806030273,\n",
       "  'eval_accuracy': 0.2237220347456568,\n",
       "  'eval_runtime': 323.9982,\n",
       "  'eval_samples_per_second': 24.695,\n",
       "  'eval_steps_per_second': 3.09,\n",
       "  'epoch': 0.06,\n",
       "  'step': 250},\n",
       " {'loss': 1.932,\n",
       "  'learning_rate': 4.375156210947263e-05,\n",
       "  'epoch': 0.12,\n",
       "  'step': 500},\n",
       " {'eval_loss': 1.894191861152649,\n",
       "  'eval_accuracy': 0.3020872390951131,\n",
       "  'eval_runtime': 231.374,\n",
       "  'eval_samples_per_second': 34.58,\n",
       "  'eval_steps_per_second': 4.326,\n",
       "  'epoch': 0.12,\n",
       "  'step': 500},\n",
       " {'loss': 1.8302,\n",
       "  'learning_rate': 4.0627343164208945e-05,\n",
       "  'epoch': 0.19,\n",
       "  'step': 750},\n",
       " {'eval_loss': 1.8001141548156738,\n",
       "  'eval_accuracy': 0.34583177102862145,\n",
       "  'eval_runtime': 228.8523,\n",
       "  'eval_samples_per_second': 34.961,\n",
       "  'eval_steps_per_second': 4.374,\n",
       "  'epoch': 0.19,\n",
       "  'step': 750},\n",
       " {'loss': 1.7355,\n",
       "  'learning_rate': 3.7503124218945266e-05,\n",
       "  'epoch': 0.25,\n",
       "  'step': 1000},\n",
       " {'eval_loss': 1.6004966497421265,\n",
       "  'eval_accuracy': 0.4255718035245594,\n",
       "  'eval_runtime': 279.9183,\n",
       "  'eval_samples_per_second': 28.583,\n",
       "  'eval_steps_per_second': 3.576,\n",
       "  'epoch': 0.25,\n",
       "  'step': 1000},\n",
       " {'loss': 1.6161,\n",
       "  'learning_rate': 3.437890527368158e-05,\n",
       "  'epoch': 0.31,\n",
       "  'step': 1250},\n",
       " {'eval_loss': 1.5390918254852295,\n",
       "  'eval_accuracy': 0.4574428196475441,\n",
       "  'eval_runtime': 337.4883,\n",
       "  'eval_samples_per_second': 23.707,\n",
       "  'eval_steps_per_second': 2.966,\n",
       "  'epoch': 0.31,\n",
       "  'step': 1250},\n",
       " {'loss': 1.5118,\n",
       "  'learning_rate': 3.1254686328417895e-05,\n",
       "  'epoch': 0.37,\n",
       "  'step': 1500},\n",
       " {'eval_loss': 1.4712923765182495,\n",
       "  'eval_accuracy': 0.47794025746781654,\n",
       "  'eval_runtime': 120.1283,\n",
       "  'eval_samples_per_second': 66.604,\n",
       "  'eval_steps_per_second': 8.333,\n",
       "  'epoch': 0.37,\n",
       "  'step': 1500},\n",
       " {'loss': 1.5079,\n",
       "  'learning_rate': 2.8130467383154213e-05,\n",
       "  'epoch': 0.44,\n",
       "  'step': 1750},\n",
       " {'eval_loss': 1.4551591873168945,\n",
       "  'eval_accuracy': 0.49268841394825647,\n",
       "  'eval_runtime': 117.5426,\n",
       "  'eval_samples_per_second': 68.069,\n",
       "  'eval_steps_per_second': 8.516,\n",
       "  'epoch': 0.44,\n",
       "  'step': 1750},\n",
       " {'loss': 1.4432,\n",
       "  'learning_rate': 2.5006248437890527e-05,\n",
       "  'epoch': 0.5,\n",
       "  'step': 2000},\n",
       " {'eval_loss': 1.37241530418396,\n",
       "  'eval_accuracy': 0.51843519560055,\n",
       "  'eval_runtime': 110.9354,\n",
       "  'eval_samples_per_second': 72.123,\n",
       "  'eval_steps_per_second': 9.023,\n",
       "  'epoch': 0.5,\n",
       "  'step': 2000},\n",
       " {'loss': 1.4013,\n",
       "  'learning_rate': 2.1882029492626845e-05,\n",
       "  'epoch': 0.56,\n",
       "  'step': 2250},\n",
       " {'eval_loss': 1.3722577095031738,\n",
       "  'eval_accuracy': 0.5179352580927384,\n",
       "  'eval_runtime': 132.7487,\n",
       "  'eval_samples_per_second': 60.272,\n",
       "  'eval_steps_per_second': 7.541,\n",
       "  'epoch': 0.56,\n",
       "  'step': 2250},\n",
       " {'loss': 1.2714,\n",
       "  'learning_rate': 1.8757810547363162e-05,\n",
       "  'epoch': 0.62,\n",
       "  'step': 2500},\n",
       " {'eval_loss': 1.286491870880127,\n",
       "  'eval_accuracy': 0.5535558055243095,\n",
       "  'eval_runtime': 125.0776,\n",
       "  'eval_samples_per_second': 63.968,\n",
       "  'eval_steps_per_second': 8.003,\n",
       "  'epoch': 0.62,\n",
       "  'step': 2500},\n",
       " {'loss': 1.2729,\n",
       "  'learning_rate': 1.5633591602099477e-05,\n",
       "  'epoch': 0.69,\n",
       "  'step': 2750},\n",
       " {'eval_loss': 1.2696741819381714,\n",
       "  'eval_accuracy': 0.5566804149481315,\n",
       "  'eval_runtime': 125.6711,\n",
       "  'eval_samples_per_second': 63.666,\n",
       "  'eval_steps_per_second': 7.965,\n",
       "  'epoch': 0.69,\n",
       "  'step': 2750},\n",
       " {'loss': 1.3154,\n",
       "  'learning_rate': 1.2509372656835791e-05,\n",
       "  'epoch': 0.75,\n",
       "  'step': 3000},\n",
       " {'eval_loss': 1.2343831062316895,\n",
       "  'eval_accuracy': 0.5711786026746657,\n",
       "  'eval_runtime': 183.3372,\n",
       "  'eval_samples_per_second': 43.641,\n",
       "  'eval_steps_per_second': 5.46,\n",
       "  'epoch': 0.75,\n",
       "  'step': 3000},\n",
       " {'loss': 1.2553,\n",
       "  'learning_rate': 9.385153711572107e-06,\n",
       "  'epoch': 0.81,\n",
       "  'step': 3250},\n",
       " {'eval_loss': 1.2018407583236694,\n",
       "  'eval_accuracy': 0.5833020872390952,\n",
       "  'eval_runtime': 125.6436,\n",
       "  'eval_samples_per_second': 63.68,\n",
       "  'eval_steps_per_second': 7.967,\n",
       "  'epoch': 0.81,\n",
       "  'step': 3250},\n",
       " {'loss': 1.2174,\n",
       "  'learning_rate': 6.260934766308422e-06,\n",
       "  'epoch': 0.87,\n",
       "  'step': 3500},\n",
       " {'eval_loss': 1.189359188079834,\n",
       "  'eval_accuracy': 0.5899262592175978,\n",
       "  'eval_runtime': 123.213,\n",
       "  'eval_samples_per_second': 64.936,\n",
       "  'eval_steps_per_second': 8.124,\n",
       "  'epoch': 0.87,\n",
       "  'step': 3500},\n",
       " {'loss': 1.2063,\n",
       "  'learning_rate': 3.136715821044739e-06,\n",
       "  'epoch': 0.94,\n",
       "  'step': 3750},\n",
       " {'eval_loss': 1.1591697931289673,\n",
       "  'eval_accuracy': 0.5946756655418073,\n",
       "  'eval_runtime': 127.915,\n",
       "  'eval_samples_per_second': 62.549,\n",
       "  'eval_steps_per_second': 7.826,\n",
       "  'epoch': 0.94,\n",
       "  'step': 3750},\n",
       " {'loss': 1.2107,\n",
       "  'learning_rate': 1.2496875781054738e-08,\n",
       "  'epoch': 1.0,\n",
       "  'step': 4000},\n",
       " {'eval_loss': 1.1537926197052002,\n",
       "  'eval_accuracy': 0.5978002749656293,\n",
       "  'eval_runtime': 87.9862,\n",
       "  'eval_samples_per_second': 90.935,\n",
       "  'eval_steps_per_second': 11.377,\n",
       "  'epoch': 1.0,\n",
       "  'step': 4000},\n",
       " {'train_runtime': 5360.9652,\n",
       "  'train_samples_per_second': 5.97,\n",
       "  'train_steps_per_second': 0.746,\n",
       "  'total_flos': 4181950165155840.0,\n",
       "  'train_loss': 1.4893368711414352,\n",
       "  'epoch': 1.0,\n",
       "  'step': 4001}]"
      ]
     },
     "execution_count": 36,
     "metadata": {},
     "output_type": "execute_result"
    }
   ],
   "source": [
    "trainer.state.log_history"
   ]
  },
  {
   "cell_type": "code",
   "execution_count": 26,
   "metadata": {},
   "outputs": [],
   "source": [
    "with open(\"../../training-logs/\", 'w') as f:\n",
    "    for state in trainer.state.log_history:\n",
    "        f.write(f\"{state}\\n\")"
   ]
  },
  {
   "cell_type": "code",
   "execution_count": 27,
   "metadata": {},
   "outputs": [],
   "source": [
    "import matplotlib.pyplot as plt"
   ]
  },
  {
   "cell_type": "code",
   "execution_count": 28,
   "metadata": {},
   "outputs": [],
   "source": [
    "train_loss_list = []\n",
    "eval_loss_list = []\n",
    "eval_acc_list = []\n",
    "epoch_train_list = []\n",
    "epoch_eval_list = []\n",
    "\n",
    "\n",
    "for state in trainer.state.log_history:\n",
    "    if \"loss\" in state:\n",
    "        train_loss_list.append(state[\"loss\"])\n",
    "        epoch_train_list.append(state[\"epoch\"])\n",
    "    elif \"eval_loss\" in state:\n",
    "        eval_loss_list.append(state[\"eval_loss\"])\n",
    "        eval_acc_list.append(state[\"eval_accuracy\"])\n",
    "        epoch_eval_list.append(state[\"epoch\"])"
   ]
  },
  {
   "cell_type": "code",
   "execution_count": 32,
   "metadata": {},
   "outputs": [
    {
     "data": {
      "image/png": "[encoded data removed]",
      "text/plain": [
       "<Figure size 640x480 with 1 Axes>"
      ]
     },
     "metadata": {},
     "output_type": "display_data"
    }
   ],
   "source": [
    "plt.plot(epoch_train_list, train_loss_list)\n",
    "plt.plot(epoch_eval_list, eval_loss_list)\n",
    "plt.title(\"GPT2 Finetuning Loss\")\n",
    "plt.legend(['Train Loss', 'Validation Loss'])\n",
    "plt.xlabel(\"Epoch\")\n",
    "plt.ylabel(\"Loss\")\n",
    "plt.show()"
   ]
  },
  {
   "cell_type": "code",
   "execution_count": 31,
   "metadata": {},
   "outputs": [
    {
     "data": {
      "image/png": "[encoded data removed]",
      "text/plain": [
       "<Figure size 640x480 with 1 Axes>"
      ]
     },
     "metadata": {},
     "output_type": "display_data"
    }
   ],
   "source": [
    "plt.plot(epoch_eval_list, eval_acc_list)\n",
    "plt.title(\"GPT2 Finetuning Accuracy\")\n",
    "plt.xlabel(\"Epoch\")\n",
    "plt.ylabel(\"Accuracy\")\n",
    "plt.show()"
   ]
  }
 ],
 "metadata": {
  "kernelspec": {
   "display_name": "E208_F23",
   "language": "python",
   "name": "python3"
  },
  "language_info": {
   "codemirror_mode": {
    "name": "ipython",
    "version": 3
   },
   "file_extension": ".py",
   "mimetype": "text/x-python",
   "name": "python",
   "nbconvert_exporter": "python",
   "pygments_lexer": "ipython3",
   "version": "3.10.13"
  }
 },
 "nbformat": 4,
 "nbformat_minor": 2
}
