{
 "cells": [
  {
   "cell_type": "code",
   "execution_count": 1,
   "metadata": {},
   "outputs": [],
   "source": [
    "from tokenizers.implementations import ByteLevelBPETokenizer\n",
    "\n",
    "tokenizer = ByteLevelBPETokenizer(\n",
    "    \"../../BPEtokenizer/vocab.json\",\n",
    "    \"../../BPEtokenizer/merges.txt\",\n",
    ")"
   ]
  },
  {
   "cell_type": "code",
   "execution_count": 2,
   "metadata": {},
   "outputs": [],
   "source": [
    "tokenizer.enable_truncation(max_length=512)"
   ]
  },
  {
   "cell_type": "code",
   "execution_count": 3,
   "metadata": {},
   "outputs": [],
   "source": [
    "from transformers import GPT2Config\n",
    "\n",
    "config = GPT2Config(\n",
    "    vocab_size=50_000,\n",
    "    n_positions=514,\n",
    "    n_head=12,\n",
    "    n_layer=6,\n",
    ")"
   ]
  },
  {
   "cell_type": "code",
   "execution_count": 4,
   "metadata": {},
   "outputs": [
    {
     "name": "stderr",
     "output_type": "stream",
     "text": [
      "Special tokens have been added in the vocabulary, make sure the associated word embeddings are fine-tuned or trained.\n"
     ]
    },
    {
     "data": {
      "text/plain": [
       "1"
      ]
     },
     "execution_count": 4,
     "metadata": {},
     "output_type": "execute_result"
    }
   ],
   "source": [
    "from transformers import GPT2TokenizerFast\n",
    "\n",
    "tokenizer = GPT2TokenizerFast.from_pretrained(\"../../BPEtokenizer\", max_len=512)\n",
    "# tokenizer.pad_token = tokenizer.eos_token\n",
    "tokenizer.add_special_tokens({'pad_token': '[PAD]'})"
   ]
  },
  {
   "cell_type": "code",
   "execution_count": 5,
   "metadata": {},
   "outputs": [],
   "source": [
    "from transformers import GPT2LMHeadModel\n",
    "\n",
    "model = GPT2LMHeadModel(config=config)"
   ]
  },
  {
   "cell_type": "code",
   "execution_count": 6,
   "metadata": {},
   "outputs": [],
   "source": [
    "model.config.pad_token_id = model.config.eos_token_id"
   ]
  },
  {
   "cell_type": "code",
   "execution_count": 7,
   "metadata": {},
   "outputs": [
    {
     "data": {
      "text/plain": [
       "81323520"
      ]
     },
     "execution_count": 7,
     "metadata": {},
     "output_type": "execute_result"
    }
   ],
   "source": [
    "model.num_parameters()"
   ]
  },
  {
   "cell_type": "markdown",
   "metadata": {},
   "source": [
    "DATASET"
   ]
  },
  {
   "cell_type": "code",
   "execution_count": 8,
   "metadata": {},
   "outputs": [
    {
     "name": "stderr",
     "output_type": "stream",
     "text": [
      "Found cached dataset text (C:/Users/Jonathan Ipe/.cache/huggingface/datasets/text/default-380bcce244e545de/0.0.0/cb1e9bd71a82ad27976be3b12b407850fe2837d80c22c5e03a28949843a8ace2)\n"
     ]
    },
    {
     "data": {
      "text/plain": [
       "Dataset({\n",
       "    features: ['text'],\n",
       "    num_rows: 28046\n",
       "})"
      ]
     },
     "execution_count": 8,
     "metadata": {},
     "output_type": "execute_result"
    }
   ],
   "source": [
    "from datasets import load_dataset\n",
    "dataset = load_dataset(\"text\", data_files=\"../../data/unlabeled_data_sentences.txt\", split='train') #, split='train', streaming=True)\n",
    "# dataset = load_dataset(\"text\", data_files=r\"..\\ttmp\\unlabeled_data_sentences.txt\", split='train').shuffle()\n",
    "dataset"
   ]
  },
  {
   "cell_type": "code",
   "execution_count": 9,
   "metadata": {},
   "outputs": [
    {
     "data": {
      "text/plain": [
       "DatasetDict({\n",
       "    train: Dataset({\n",
       "        features: ['text'],\n",
       "        num_rows: 22436\n",
       "    })\n",
       "    test: Dataset({\n",
       "        features: ['text'],\n",
       "        num_rows: 5610\n",
       "    })\n",
       "})"
      ]
     },
     "execution_count": 9,
     "metadata": {},
     "output_type": "execute_result"
    }
   ],
   "source": [
    "dataset = dataset.train_test_split(test_size=0.2)\n",
    "dataset"
   ]
  },
  {
   "cell_type": "code",
   "execution_count": 10,
   "metadata": {},
   "outputs": [
    {
     "data": {
      "application/vnd.jupyter.widget-view+json": {
       "model_id": "54ce2005832d4580b27fdfd053cfc6df",
       "version_major": 2,
       "version_minor": 0
      },
      "text/plain": [
       "Map:   0%|          | 0/22436 [00:00<?, ? examples/s]"
      ]
     },
     "metadata": {},
     "output_type": "display_data"
    },
    {
     "data": {
      "application/vnd.jupyter.widget-view+json": {
       "model_id": "cf33986079064236adf3e6047aa0b6e0",
       "version_major": 2,
       "version_minor": 0
      },
      "text/plain": [
       "Map:   0%|          | 0/5610 [00:00<?, ? examples/s]"
      ]
     },
     "metadata": {},
     "output_type": "display_data"
    }
   ],
   "source": [
    "def tokenize_function(examples):\n",
    "    return tokenizer(examples[\"text\"], truncation=True, padding='max_length', max_length=512)\n",
    "\n",
    "tokenized_datasets = dataset.map(tokenize_function, batched=True)"
   ]
  },
  {
   "cell_type": "code",
   "execution_count": 11,
   "metadata": {},
   "outputs": [
    {
     "data": {
      "text/plain": [
       "DatasetDict({\n",
       "    train: Dataset({\n",
       "        features: ['text', 'input_ids', 'attention_mask'],\n",
       "        num_rows: 22436\n",
       "    })\n",
       "    test: Dataset({\n",
       "        features: ['text', 'input_ids', 'attention_mask'],\n",
       "        num_rows: 5610\n",
       "    })\n",
       "})"
      ]
     },
     "execution_count": 11,
     "metadata": {},
     "output_type": "execute_result"
    }
   ],
   "source": [
    "tokenized_datasets"
   ]
  },
  {
   "cell_type": "code",
   "execution_count": 12,
   "metadata": {},
   "outputs": [],
   "source": [
    "train_dataset = tokenized_datasets['train']\n",
    "val_dataset = tokenized_datasets['test']"
   ]
  },
  {
   "cell_type": "code",
   "execution_count": 13,
   "metadata": {},
   "outputs": [],
   "source": [
    "from transformers import DataCollatorForLanguageModeling\n",
    "\n",
    "data_collator = DataCollatorForLanguageModeling(\n",
    "    tokenizer=tokenizer, mlm=False\n",
    ")"
   ]
  },
  {
   "cell_type": "markdown",
   "metadata": {},
   "source": [
    "PRETRAINING"
   ]
  },
  {
   "cell_type": "code",
   "execution_count": 14,
   "metadata": {},
   "outputs": [],
   "source": [
    "import torch"
   ]
  },
  {
   "cell_type": "code",
   "execution_count": 15,
   "metadata": {},
   "outputs": [
    {
     "data": {
      "text/plain": [
       "True"
      ]
     },
     "execution_count": 15,
     "metadata": {},
     "output_type": "execute_result"
    }
   ],
   "source": [
    "torch.cuda.is_available()"
   ]
  },
  {
   "cell_type": "code",
   "execution_count": 18,
   "metadata": {},
   "outputs": [
    {
     "data": {
      "text/plain": []
     },
     "execution_count": 18,
     "metadata": {},
     "output_type": "execute_result"
    }
   ],
   "source": [
    "import wandb\n",
    "wandb.init(mode=\"disabled\")"
   ]
  },
  {
   "cell_type": "code",
   "execution_count": 16,
   "metadata": {},
   "outputs": [],
   "source": [
    "from transformers import Trainer, TrainingArguments\n",
    "\n",
    "training_args = TrainingArguments(\n",
    "    output_dir=\"../../models/GPT2-Pretrained\",\n",
    "    overwrite_output_dir=True,\n",
    "    num_train_epochs=1,\n",
    "    per_device_train_batch_size=8,\n",
    "    per_device_eval_batch_size=8,\n",
    "    save_steps=10_000,\n",
    "    evaluation_strategy=\"steps\",\n",
    "    eval_steps=250,\n",
    "    # save_total_limit=2,\n",
    "    # max_steps=100,  # specify the number of steps\n",
    "    # logging_dir='./logs',  # directory for storing logs\n",
    "    logging_steps=250,  # log training information every 50 steps\n",
    ")\n",
    "\n",
    "trainer = Trainer(\n",
    "    model=model,\n",
    "    args=training_args,\n",
    "    data_collator=data_collator,\n",
    "    train_dataset=train_dataset,\n",
    "    eval_dataset=val_dataset,  # If you have a validation dataset\n",
    "    # compute_metrics=compute_metrics\n",
    ")"
   ]
  },
  {
   "cell_type": "code",
   "execution_count": 19,
   "metadata": {},
   "outputs": [
    {
     "data": {
      "application/vnd.jupyter.widget-view+json": {
       "model_id": "66708e7d0e934bb3842f655c8d67bf09",
       "version_major": 2,
       "version_minor": 0
      },
      "text/plain": [
       "  0%|          | 0/2805 [00:00<?, ?it/s]"
      ]
     },
     "metadata": {},
     "output_type": "display_data"
    },
    {
     "name": "stderr",
     "output_type": "stream",
     "text": [
      "You're using a GPT2TokenizerFast tokenizer. Please note that with a fast tokenizer, using the `__call__` method is faster than using a method to encode the text followed by a call to the `pad` method to get a padded encoding.\n"
     ]
    },
    {
     "name": "stdout",
     "output_type": "stream",
     "text": [
      "{'loss': 3.9065, 'learning_rate': 4.554367201426025e-05, 'epoch': 0.09}\n"
     ]
    },
    {
     "data": {
      "application/vnd.jupyter.widget-view+json": {
       "model_id": "c3ff7d3f54224971972c26efa964e5ea",
       "version_major": 2,
       "version_minor": 0
      },
      "text/plain": [
       "  0%|          | 0/702 [00:00<?, ?it/s]"
      ]
     },
     "metadata": {},
     "output_type": "display_data"
    },
    {
     "name": "stdout",
     "output_type": "stream",
     "text": [
      "{'eval_loss': 3.0493619441986084, 'eval_runtime': 99.0184, 'eval_samples_per_second': 56.656, 'eval_steps_per_second': 7.09, 'epoch': 0.09}\n",
      "{'loss': 2.9541, 'learning_rate': 4.10873440285205e-05, 'epoch': 0.18}\n"
     ]
    },
    {
     "data": {
      "application/vnd.jupyter.widget-view+json": {
       "model_id": "782f3e9cccf3464f957b963a7546a3a1",
       "version_major": 2,
       "version_minor": 0
      },
      "text/plain": [
       "  0%|          | 0/702 [00:00<?, ?it/s]"
      ]
     },
     "metadata": {},
     "output_type": "display_data"
    },
    {
     "name": "stdout",
     "output_type": "stream",
     "text": [
      "{'eval_loss': 2.8342039585113525, 'eval_runtime': 100.252, 'eval_samples_per_second': 55.959, 'eval_steps_per_second': 7.002, 'epoch': 0.18}\n",
      "{'loss': 2.7685, 'learning_rate': 3.6631016042780753e-05, 'epoch': 0.27}\n"
     ]
    },
    {
     "data": {
      "application/vnd.jupyter.widget-view+json": {
       "model_id": "537ab994e5a446f6b33d338060fac620",
       "version_major": 2,
       "version_minor": 0
      },
      "text/plain": [
       "  0%|          | 0/702 [00:00<?, ?it/s]"
      ]
     },
     "metadata": {},
     "output_type": "display_data"
    },
    {
     "name": "stdout",
     "output_type": "stream",
     "text": [
      "{'eval_loss': 2.631448268890381, 'eval_runtime': 103.0228, 'eval_samples_per_second': 54.454, 'eval_steps_per_second': 6.814, 'epoch': 0.27}\n",
      "{'loss': 2.5997, 'learning_rate': 3.2174688057041004e-05, 'epoch': 0.36}\n"
     ]
    },
    {
     "data": {
      "application/vnd.jupyter.widget-view+json": {
       "model_id": "061250ae07314fd5a3ec6bdcc758082c",
       "version_major": 2,
       "version_minor": 0
      },
      "text/plain": [
       "  0%|          | 0/702 [00:00<?, ?it/s]"
      ]
     },
     "metadata": {},
     "output_type": "display_data"
    },
    {
     "name": "stdout",
     "output_type": "stream",
     "text": [
      "{'eval_loss': 2.513180732727051, 'eval_runtime': 109.3242, 'eval_samples_per_second': 51.315, 'eval_steps_per_second': 6.421, 'epoch': 0.36}\n",
      "{'loss': 2.5182, 'learning_rate': 2.7718360071301247e-05, 'epoch': 0.45}\n"
     ]
    },
    {
     "data": {
      "application/vnd.jupyter.widget-view+json": {
       "model_id": "4d604f1cdcfc4819aeee96ea8c0b11f0",
       "version_major": 2,
       "version_minor": 0
      },
      "text/plain": [
       "  0%|          | 0/702 [00:00<?, ?it/s]"
      ]
     },
     "metadata": {},
     "output_type": "display_data"
    },
    {
     "name": "stdout",
     "output_type": "stream",
     "text": [
      "{'eval_loss': 2.440329074859619, 'eval_runtime': 94.2363, 'eval_samples_per_second': 59.531, 'eval_steps_per_second': 7.449, 'epoch': 0.45}\n",
      "{'loss': 2.4646, 'learning_rate': 2.32620320855615e-05, 'epoch': 0.53}\n"
     ]
    },
    {
     "data": {
      "application/vnd.jupyter.widget-view+json": {
       "model_id": "292410a155694b5483f434fa8daee2aa",
       "version_major": 2,
       "version_minor": 0
      },
      "text/plain": [
       "  0%|          | 0/702 [00:00<?, ?it/s]"
      ]
     },
     "metadata": {},
     "output_type": "display_data"
    },
    {
     "name": "stdout",
     "output_type": "stream",
     "text": [
      "{'eval_loss': 2.388923168182373, 'eval_runtime': 88.0855, 'eval_samples_per_second': 63.688, 'eval_steps_per_second': 7.97, 'epoch': 0.53}\n",
      "{'loss': 2.4187, 'learning_rate': 1.8805704099821748e-05, 'epoch': 0.62}\n"
     ]
    },
    {
     "data": {
      "application/vnd.jupyter.widget-view+json": {
       "model_id": "6c8ce27568144fa78524e9319d30df90",
       "version_major": 2,
       "version_minor": 0
      },
      "text/plain": [
       "  0%|          | 0/702 [00:00<?, ?it/s]"
      ]
     },
     "metadata": {},
     "output_type": "display_data"
    },
    {
     "name": "stdout",
     "output_type": "stream",
     "text": [
      "{'eval_loss': 2.354825019836426, 'eval_runtime': 92.09, 'eval_samples_per_second': 60.919, 'eval_steps_per_second': 7.623, 'epoch': 0.62}\n",
      "{'loss': 2.3894, 'learning_rate': 1.4349376114081997e-05, 'epoch': 0.71}\n"
     ]
    },
    {
     "data": {
      "application/vnd.jupyter.widget-view+json": {
       "model_id": "c7fcc84b8af7428b936fba471daedb0c",
       "version_major": 2,
       "version_minor": 0
      },
      "text/plain": [
       "  0%|          | 0/702 [00:00<?, ?it/s]"
      ]
     },
     "metadata": {},
     "output_type": "display_data"
    },
    {
     "name": "stdout",
     "output_type": "stream",
     "text": [
      "{'eval_loss': 2.327408790588379, 'eval_runtime': 89.3932, 'eval_samples_per_second': 62.756, 'eval_steps_per_second': 7.853, 'epoch': 0.71}\n",
      "{'loss': 2.3673, 'learning_rate': 9.893048128342247e-06, 'epoch': 0.8}\n"
     ]
    },
    {
     "data": {
      "application/vnd.jupyter.widget-view+json": {
       "model_id": "f60141951f8845bea13acdb2268cfbd6",
       "version_major": 2,
       "version_minor": 0
      },
      "text/plain": [
       "  0%|          | 0/702 [00:00<?, ?it/s]"
      ]
     },
     "metadata": {},
     "output_type": "display_data"
    },
    {
     "name": "stdout",
     "output_type": "stream",
     "text": [
      "{'eval_loss': 2.30847430229187, 'eval_runtime': 97.7408, 'eval_samples_per_second': 57.397, 'eval_steps_per_second': 7.182, 'epoch': 0.8}\n",
      "{'loss': 2.3268, 'learning_rate': 5.436720142602496e-06, 'epoch': 0.89}\n"
     ]
    },
    {
     "data": {
      "application/vnd.jupyter.widget-view+json": {
       "model_id": "db5f3fc2fcd34d07ad8945771b484f4b",
       "version_major": 2,
       "version_minor": 0
      },
      "text/plain": [
       "  0%|          | 0/702 [00:00<?, ?it/s]"
      ]
     },
     "metadata": {},
     "output_type": "display_data"
    },
    {
     "name": "stdout",
     "output_type": "stream",
     "text": [
      "{'eval_loss': 2.294293165206909, 'eval_runtime': 111.7228, 'eval_samples_per_second': 50.214, 'eval_steps_per_second': 6.283, 'epoch': 0.89}\n",
      "{'loss': 2.3241, 'learning_rate': 9.80392156862745e-07, 'epoch': 0.98}\n"
     ]
    },
    {
     "data": {
      "application/vnd.jupyter.widget-view+json": {
       "model_id": "42a36acde9c84999abc971f7557a0da7",
       "version_major": 2,
       "version_minor": 0
      },
      "text/plain": [
       "  0%|          | 0/702 [00:00<?, ?it/s]"
      ]
     },
     "metadata": {},
     "output_type": "display_data"
    },
    {
     "name": "stdout",
     "output_type": "stream",
     "text": [
      "{'eval_loss': 2.285398483276367, 'eval_runtime': 177.0323, 'eval_samples_per_second': 31.689, 'eval_steps_per_second': 3.965, 'epoch': 0.98}\n",
      "{'train_runtime': 2352.0174, 'train_samples_per_second': 9.539, 'train_steps_per_second': 1.193, 'train_loss': 2.6335545449758384, 'epoch': 1.0}\n",
      "CPU times: total: 39min 16s\n",
      "Wall time: 39min 12s\n"
     ]
    }
   ],
   "source": [
    "%%time\n",
    "train_result = trainer.train()"
   ]
  },
  {
   "cell_type": "code",
   "execution_count": 21,
   "metadata": {},
   "outputs": [],
   "source": [
    "trainer.save_model(\"../../models/GPT2-Pretrained\")"
   ]
  },
  {
   "cell_type": "code",
   "execution_count": 22,
   "metadata": {},
   "outputs": [
    {
     "data": {
      "text/plain": [
       "[{'loss': 3.9065,\n",
       "  'learning_rate': 4.554367201426025e-05,\n",
       "  'epoch': 0.09,\n",
       "  'step': 250},\n",
       " {'eval_loss': 3.0493619441986084,\n",
       "  'eval_runtime': 99.0184,\n",
       "  'eval_samples_per_second': 56.656,\n",
       "  'eval_steps_per_second': 7.09,\n",
       "  'epoch': 0.09,\n",
       "  'step': 250},\n",
       " {'loss': 2.9541,\n",
       "  'learning_rate': 4.10873440285205e-05,\n",
       "  'epoch': 0.18,\n",
       "  'step': 500},\n",
       " {'eval_loss': 2.8342039585113525,\n",
       "  'eval_runtime': 100.252,\n",
       "  'eval_samples_per_second': 55.959,\n",
       "  'eval_steps_per_second': 7.002,\n",
       "  'epoch': 0.18,\n",
       "  'step': 500},\n",
       " {'loss': 2.7685,\n",
       "  'learning_rate': 3.6631016042780753e-05,\n",
       "  'epoch': 0.27,\n",
       "  'step': 750},\n",
       " {'eval_loss': 2.631448268890381,\n",
       "  'eval_runtime': 103.0228,\n",
       "  'eval_samples_per_second': 54.454,\n",
       "  'eval_steps_per_second': 6.814,\n",
       "  'epoch': 0.27,\n",
       "  'step': 750},\n",
       " {'loss': 2.5997,\n",
       "  'learning_rate': 3.2174688057041004e-05,\n",
       "  'epoch': 0.36,\n",
       "  'step': 1000},\n",
       " {'eval_loss': 2.513180732727051,\n",
       "  'eval_runtime': 109.3242,\n",
       "  'eval_samples_per_second': 51.315,\n",
       "  'eval_steps_per_second': 6.421,\n",
       "  'epoch': 0.36,\n",
       "  'step': 1000},\n",
       " {'loss': 2.5182,\n",
       "  'learning_rate': 2.7718360071301247e-05,\n",
       "  'epoch': 0.45,\n",
       "  'step': 1250},\n",
       " {'eval_loss': 2.440329074859619,\n",
       "  'eval_runtime': 94.2363,\n",
       "  'eval_samples_per_second': 59.531,\n",
       "  'eval_steps_per_second': 7.449,\n",
       "  'epoch': 0.45,\n",
       "  'step': 1250},\n",
       " {'loss': 2.4646,\n",
       "  'learning_rate': 2.32620320855615e-05,\n",
       "  'epoch': 0.53,\n",
       "  'step': 1500},\n",
       " {'eval_loss': 2.388923168182373,\n",
       "  'eval_runtime': 88.0855,\n",
       "  'eval_samples_per_second': 63.688,\n",
       "  'eval_steps_per_second': 7.97,\n",
       "  'epoch': 0.53,\n",
       "  'step': 1500},\n",
       " {'loss': 2.4187,\n",
       "  'learning_rate': 1.8805704099821748e-05,\n",
       "  'epoch': 0.62,\n",
       "  'step': 1750},\n",
       " {'eval_loss': 2.354825019836426,\n",
       "  'eval_runtime': 92.09,\n",
       "  'eval_samples_per_second': 60.919,\n",
       "  'eval_steps_per_second': 7.623,\n",
       "  'epoch': 0.62,\n",
       "  'step': 1750},\n",
       " {'loss': 2.3894,\n",
       "  'learning_rate': 1.4349376114081997e-05,\n",
       "  'epoch': 0.71,\n",
       "  'step': 2000},\n",
       " {'eval_loss': 2.327408790588379,\n",
       "  'eval_runtime': 89.3932,\n",
       "  'eval_samples_per_second': 62.756,\n",
       "  'eval_steps_per_second': 7.853,\n",
       "  'epoch': 0.71,\n",
       "  'step': 2000},\n",
       " {'loss': 2.3673,\n",
       "  'learning_rate': 9.893048128342247e-06,\n",
       "  'epoch': 0.8,\n",
       "  'step': 2250},\n",
       " {'eval_loss': 2.30847430229187,\n",
       "  'eval_runtime': 97.7408,\n",
       "  'eval_samples_per_second': 57.397,\n",
       "  'eval_steps_per_second': 7.182,\n",
       "  'epoch': 0.8,\n",
       "  'step': 2250},\n",
       " {'loss': 2.3268,\n",
       "  'learning_rate': 5.436720142602496e-06,\n",
       "  'epoch': 0.89,\n",
       "  'step': 2500},\n",
       " {'eval_loss': 2.294293165206909,\n",
       "  'eval_runtime': 111.7228,\n",
       "  'eval_samples_per_second': 50.214,\n",
       "  'eval_steps_per_second': 6.283,\n",
       "  'epoch': 0.89,\n",
       "  'step': 2500},\n",
       " {'loss': 2.3241,\n",
       "  'learning_rate': 9.80392156862745e-07,\n",
       "  'epoch': 0.98,\n",
       "  'step': 2750},\n",
       " {'eval_loss': 2.285398483276367,\n",
       "  'eval_runtime': 177.0323,\n",
       "  'eval_samples_per_second': 31.689,\n",
       "  'eval_steps_per_second': 3.965,\n",
       "  'epoch': 0.98,\n",
       "  'step': 2750},\n",
       " {'train_runtime': 2352.0174,\n",
       "  'train_samples_per_second': 9.539,\n",
       "  'train_steps_per_second': 1.193,\n",
       "  'total_flos': 2931226948141056.0,\n",
       "  'train_loss': 2.6335545449758384,\n",
       "  'epoch': 1.0,\n",
       "  'step': 2805}]"
      ]
     },
     "execution_count": 22,
     "metadata": {},
     "output_type": "execute_result"
    }
   ],
   "source": [
    "trainer.state.log_history"
   ]
  },
  {
   "cell_type": "code",
   "execution_count": 28,
   "metadata": {},
   "outputs": [],
   "source": [
    "with open(\"../../training-logs/\", 'w') as f:\n",
    "    for state in trainer.state.log_history:\n",
    "        f.write(f\"{state}\\n\")"
   ]
  },
  {
   "cell_type": "code",
   "execution_count": 29,
   "metadata": {},
   "outputs": [],
   "source": [
    "train_loss_list = []\n",
    "eval_loss_list = []\n",
    "epoch_train_list = []\n",
    "epoch_eval_list = []\n",
    "\n",
    "for state in trainer.state.log_history:\n",
    "    if \"loss\" in state:\n",
    "        train_loss_list.append(state[\"loss\"])\n",
    "        epoch_train_list.append(state[\"epoch\"])\n",
    "    elif \"eval_loss\" in state:\n",
    "        eval_loss_list.append(state[\"eval_loss\"])\n",
    "        epoch_eval_list.append(state[\"epoch\"])"
   ]
  },
  {
   "cell_type": "code",
   "execution_count": 30,
   "metadata": {},
   "outputs": [],
   "source": [
    "import matplotlib.pyplot as plt\n",
    "import numpy as np"
   ]
  },
  {
   "cell_type": "code",
   "execution_count": 31,
   "metadata": {},
   "outputs": [
    {
     "data": {
      "image/png": "[encoded data removed]",
      "text/plain": [
       "<Figure size 640x480 with 1 Axes>"
      ]
     },
     "metadata": {},
     "output_type": "display_data"
    }
   ],
   "source": [
    "plt.plot(epoch_train_list, train_loss_list)\n",
    "plt.plot(epoch_eval_list, eval_loss_list)\n",
    "plt.legend(['Train Loss', 'Validation Loss'])\n",
    "plt.title(\"GPT2 Pretraining Loss\")\n",
    "plt.xlabel(\"Epoch\")\n",
    "plt.ylabel(\"Loss\")\n",
    "plt.show()"
   ]
  }
 ],
 "metadata": {
  "kernelspec": {
   "display_name": "E208_F23",
   "language": "python",
   "name": "python3"
  },
  "language_info": {
   "codemirror_mode": {
    "name": "ipython",
    "version": 3
   },
   "file_extension": ".py",
   "mimetype": "text/x-python",
   "name": "python",
   "nbconvert_exporter": "python",
   "pygments_lexer": "ipython3",
   "version": "3.10.13"
  }
 },
 "nbformat": 4,
 "nbformat_minor": 2
}
