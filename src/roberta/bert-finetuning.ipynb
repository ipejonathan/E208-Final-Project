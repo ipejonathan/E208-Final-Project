{
 "cells": [
  {
   "cell_type": "code",
   "execution_count": 1,
   "metadata": {},
   "outputs": [],
   "source": [
    "from datasets import Dataset\n",
    "\n",
    "def my_gen():\n",
    "    f1 = open(\"labeled_data_sentences.txt\", \"r\")\n",
    "    f2 = open(\"labeled_data_labels.txt\", \"r\")\n",
    "\n",
    "    sentences = f1.readlines()\n",
    "    labels = f2.readlines()\n",
    "\n",
    "    for i in range(len(sentences)):\n",
    "        yield {\"text\": sentences[i][:len(sentences[i])-1],\n",
    "               \"label\": labels[i][:len(labels[i])-1]}"
   ]
  },
  {
   "cell_type": "code",
   "execution_count": 2,
   "metadata": {},
   "outputs": [
    {
     "name": "stderr",
     "output_type": "stream",
     "text": [
      "Found cached dataset generator (C:/Users/Jonathan Ipe/.cache/huggingface/datasets/generator/default-a52d2eba600dcdeb/0.0.0)\n"
     ]
    }
   ],
   "source": [
    "dataset = Dataset.from_generator(my_gen)"
   ]
  },
  {
   "cell_type": "code",
   "execution_count": 3,
   "metadata": {},
   "outputs": [
    {
     "name": "stderr",
     "output_type": "stream",
     "text": [
      "Loading cached processed dataset at C:\\Users\\Jonathan Ipe\\.cache\\huggingface\\datasets\\generator\\default-a52d2eba600dcdeb\\0.0.0\\cache-7ab10ce251b09a87.arrow\n"
     ]
    }
   ],
   "source": [
    "dataset = dataset.class_encode_column(\"label\")"
   ]
  },
  {
   "cell_type": "code",
   "execution_count": 4,
   "metadata": {},
   "outputs": [
    {
     "data": {
      "text/plain": [
       "{'text': '¯ï¯¯¯°¯¯ ¯į¯¯į¯¯¯ ¯¯į¯į¯¯¯ ¯¯¯¯ï¯¯¯ ¯¯¯¯¯±¯¯ ¯¯¯¯¯³¯¯ ¯¯¯¯¯±¯¯ ¯¯¯¯¯°¯¯ ¯¯į¯į¯¯¯ ¯¯¯¯ï¯¯¯ ¯¯¯°Ï¯¯¯ ¯¯Ï¯¯¯¯¯ ¯¯±¯¿¯¯¯ ¯¯¯¯ï¯¯¯ ¯¯±¯¯±¯¯ ¯¯Ï¯¯¯¯¯ ¯¯·¯¯¯¯¯ ¯¯Ï¯¯¯¯¯ ¯¯±¯¯·¯¯ ¯¯Ï¯¯¯¯¯ ¯¯·¯¯³¯¯ ¯¯Ï¯¯±¯¯ ¯¯³¯¯°¯¯ ¯¯Ï¯¯¯¯¯ ¯¯¿¯¯¯¯¯ ¯¯Ï¯¯¯¯¯ ¯¯³¯¯¯¯¯ ¯¯Ï¯¯¯¯¯ ¯¯¿¯ï¯¯¯ ¯¯Ï¯¯¯¯¯ ¯¯°¯¯³¯¯ ¯¯Ï¯¯¯¯¯ ¯¯³¯¯¯¯¯ ¯¯Ï¯¯¯¯¯ ¯¯°¯¯¿¯¯ ¯¯Ó¯¯·¯¯ ¯¯Ï¯¯³¯¯ ¯¯±¯¯·¯¯ ¯¯Ï¯¯¯¯¯ ¯¯·¯¯¯¯¯ ¯¯Ï¯¯¯¯¯ ¯¯±¯¯¯¯¯ ¯¯Ï¯¯¯¯¯ ¯¯·¯ï¯¯¯ ¯¯Ï¯¯¯¯¯ ¯¯÷¯¯¯¯¯ ¯¯·¯±´¯¯ ¯¯·¯ï¯¯¯ ¯¯¯¯¯Ï¯¯ ¯¯¯¯¯¿¯¯ ¯¯¯¯¯·¯¯ ¯¯¯¯¯³¯¯ ¯¯¯¯¯±¯¯ ¯¯¯¯¯°¯¯ ¯¯¯¯¯±¯¯ ¯¯¿¯į¯¯¯ ¯¯¯·¯¯¯¯ ¯¯·¯¯±¯¯ ¯¯¯³¯¯¯¯ ¯¯³¯¯³¯¯ ¯¯¯±¯¯¯¯ ¯¯±¯¯·¯¯ ¯¯¯°¯¯¯¯ ¯¯³¯¯¯¯¯',\n",
       " 'label': 3}"
      ]
     },
     "execution_count": 4,
     "metadata": {},
     "output_type": "execute_result"
    }
   ],
   "source": [
    "dataset[101]"
   ]
  },
  {
   "cell_type": "code",
   "execution_count": 5,
   "metadata": {},
   "outputs": [],
   "source": [
    "from transformers import AutoTokenizer, RobertaTokenizerFast\n",
    "\n",
    "tokenizer = RobertaTokenizerFast.from_pretrained(\"BPEtokenizer\", max_len=512)"
   ]
  },
  {
   "cell_type": "code",
   "execution_count": 6,
   "metadata": {},
   "outputs": [],
   "source": [
    "def tokenize_function(examples):\n",
    "    return tokenizer(examples[\"text\"], padding=\"max_length\", truncation=True)"
   ]
  },
  {
   "cell_type": "code",
   "execution_count": 7,
   "metadata": {},
   "outputs": [
    {
     "name": "stderr",
     "output_type": "stream",
     "text": [
      "Loading cached processed dataset at C:\\Users\\Jonathan Ipe\\.cache\\huggingface\\datasets\\generator\\default-a52d2eba600dcdeb\\0.0.0\\cache-826c5f30b602752b.arrow\n"
     ]
    }
   ],
   "source": [
    "tokenized_datasets = dataset.map(tokenize_function, batched=True)"
   ]
  },
  {
   "cell_type": "code",
   "execution_count": 8,
   "metadata": {},
   "outputs": [
    {
     "data": {
      "text/plain": [
       "DatasetDict({\n",
       "    train: Dataset({\n",
       "        features: ['text', 'label', 'input_ids', 'attention_mask'],\n",
       "        num_rows: 32004\n",
       "    })\n",
       "    test: Dataset({\n",
       "        features: ['text', 'label', 'input_ids', 'attention_mask'],\n",
       "        num_rows: 8001\n",
       "    })\n",
       "})"
      ]
     },
     "execution_count": 8,
     "metadata": {},
     "output_type": "execute_result"
    }
   ],
   "source": [
    "tokenized_datasets = tokenized_datasets.train_test_split(test_size=0.2)\n",
    "tokenized_datasets"
   ]
  },
  {
   "cell_type": "code",
   "execution_count": null,
   "metadata": {},
   "outputs": [],
   "source": [
    "# small_train_dataset = tokenized_datasets.shuffle(seed=42).select(range(1000))\n",
    "# small_eval_dataset = tokenized_datasets.shuffle(seed=42).select(range(1000, 1500))"
   ]
  },
  {
   "cell_type": "markdown",
   "metadata": {},
   "source": [
    "Training"
   ]
  },
  {
   "cell_type": "code",
   "execution_count": 9,
   "metadata": {},
   "outputs": [
    {
     "name": "stderr",
     "output_type": "stream",
     "text": [
      "Some weights of RobertaForSequenceClassification were not initialized from the model checkpoint at BERT-Pretrained and are newly initialized: ['classifier.out_proj.weight', 'classifier.out_proj.bias', 'classifier.dense.weight', 'classifier.dense.bias']\n",
      "You should probably TRAIN this model on a down-stream task to be able to use it for predictions and inference.\n"
     ]
    }
   ],
   "source": [
    "from transformers import AutoModelForSequenceClassification\n",
    "\n",
    "model = AutoModelForSequenceClassification.from_pretrained(\"BERT-Pretrained\", num_labels=9)"
   ]
  },
  {
   "cell_type": "code",
   "execution_count": 10,
   "metadata": {},
   "outputs": [
    {
     "name": "stderr",
     "output_type": "stream",
     "text": [
      "C:\\Temp\\ipykernel_27644\\2607597888.py:4: FutureWarning: load_metric is deprecated and will be removed in the next major version of datasets. Use 'evaluate.load' instead, from the new library 🤗 Evaluate: https://huggingface.co/docs/evaluate\n",
      "  metric = load_metric(\"accuracy\")\n"
     ]
    }
   ],
   "source": [
    "import numpy as np\n",
    "from datasets import load_metric\n",
    "\n",
    "metric = load_metric(\"accuracy\")"
   ]
  },
  {
   "cell_type": "code",
   "execution_count": 11,
   "metadata": {},
   "outputs": [],
   "source": [
    "def compute_metrics(eval_pred):\n",
    "    logits, labels = eval_pred\n",
    "    predictions = np.argmax(logits, axis=-1)\n",
    "    # predictions = np.argmax(logits, axis=1)\n",
    "    return metric.compute(predictions=predictions, references=labels)"
   ]
  },
  {
   "cell_type": "code",
   "execution_count": 21,
   "metadata": {},
   "outputs": [],
   "source": [
    "from transformers import TrainingArguments, Trainer\n",
    "\n",
    "training_args = TrainingArguments(output_dir=\"BERT-finetuned\",\n",
    "                                  overwrite_output_dir=True, \n",
    "                                  evaluation_strategy=\"steps\",\n",
    "                                  num_train_epochs=1,\n",
    "                                  per_device_train_batch_size=8,\n",
    "                                  per_device_eval_batch_size=8,\n",
    "                                  eval_steps=250,\n",
    "                                  logging_steps=250,\n",
    ")\n",
    "\n",
    "trainer = Trainer(\n",
    "    model=model,\n",
    "    args=training_args,\n",
    "    train_dataset=tokenized_datasets[\"train\"],\n",
    "    eval_dataset=tokenized_datasets[\"test\"],\n",
    "    compute_metrics=compute_metrics,\n",
    ")"
   ]
  },
  {
   "cell_type": "code",
   "execution_count": 22,
   "metadata": {},
   "outputs": [
    {
     "data": {
      "application/vnd.jupyter.widget-view+json": {
       "model_id": "1a7e32867d00478bbb0f4e9230c3ad56",
       "version_major": 2,
       "version_minor": 0
      },
      "text/plain": [
       "  0%|          | 0/4001 [00:00<?, ?it/s]"
      ]
     },
     "metadata": {},
     "output_type": "display_data"
    },
    {
     "name": "stdout",
     "output_type": "stream",
     "text": [
      "{'loss': 1.473, 'learning_rate': 4.687578105473632e-05, 'epoch': 0.06}\n"
     ]
    },
    {
     "data": {
      "application/vnd.jupyter.widget-view+json": {
       "model_id": "9ba5720621e14722afc47447b6a3bdc1",
       "version_major": 2,
       "version_minor": 0
      },
      "text/plain": [
       "  0%|          | 0/1001 [00:00<?, ?it/s]"
      ]
     },
     "metadata": {},
     "output_type": "display_data"
    },
    {
     "name": "stdout",
     "output_type": "stream",
     "text": [
      "{'eval_loss': 1.4664937257766724, 'eval_accuracy': 0.47531558555180603, 'eval_runtime': 71.9587, 'eval_samples_per_second': 111.189, 'eval_steps_per_second': 13.911, 'epoch': 0.06}\n",
      "{'loss': 1.3836, 'learning_rate': 4.375156210947263e-05, 'epoch': 0.12}\n"
     ]
    },
    {
     "data": {
      "application/vnd.jupyter.widget-view+json": {
       "model_id": "25d4df4202d24fd1abf4b47585e36e1a",
       "version_major": 2,
       "version_minor": 0
      },
      "text/plain": [
       "  0%|          | 0/1001 [00:00<?, ?it/s]"
      ]
     },
     "metadata": {},
     "output_type": "display_data"
    },
    {
     "name": "stdout",
     "output_type": "stream",
     "text": [
      "{'eval_loss': 1.4849059581756592, 'eval_accuracy': 0.4905636795400575, 'eval_runtime': 70.7281, 'eval_samples_per_second': 113.123, 'eval_steps_per_second': 14.153, 'epoch': 0.12}\n",
      "{'loss': 1.2876, 'learning_rate': 4.0627343164208945e-05, 'epoch': 0.19}\n"
     ]
    },
    {
     "data": {
      "application/vnd.jupyter.widget-view+json": {
       "model_id": "6cf2d9f5f999499ab2c9c8414a05fa26",
       "version_major": 2,
       "version_minor": 0
      },
      "text/plain": [
       "  0%|          | 0/1001 [00:00<?, ?it/s]"
      ]
     },
     "metadata": {},
     "output_type": "display_data"
    },
    {
     "name": "stdout",
     "output_type": "stream",
     "text": [
      "{'eval_loss': 1.5155967473983765, 'eval_accuracy': 0.4759405074365704, 'eval_runtime': 71.5619, 'eval_samples_per_second': 111.805, 'eval_steps_per_second': 13.988, 'epoch': 0.19}\n",
      "{'loss': 1.2571, 'learning_rate': 3.7503124218945266e-05, 'epoch': 0.25}\n"
     ]
    },
    {
     "data": {
      "application/vnd.jupyter.widget-view+json": {
       "model_id": "a3bfdb4261794bfdb6153c73c251031f",
       "version_major": 2,
       "version_minor": 0
      },
      "text/plain": [
       "  0%|          | 0/1001 [00:00<?, ?it/s]"
      ]
     },
     "metadata": {},
     "output_type": "display_data"
    },
    {
     "name": "stdout",
     "output_type": "stream",
     "text": [
      "{'eval_loss': 1.5133440494537354, 'eval_accuracy': 0.485814273215848, 'eval_runtime': 70.2082, 'eval_samples_per_second': 113.961, 'eval_steps_per_second': 14.258, 'epoch': 0.25}\n",
      "{'loss': 1.183, 'learning_rate': 3.437890527368158e-05, 'epoch': 0.31}\n"
     ]
    },
    {
     "data": {
      "application/vnd.jupyter.widget-view+json": {
       "model_id": "f844fc38ce684694aa7e5cb231877da1",
       "version_major": 2,
       "version_minor": 0
      },
      "text/plain": [
       "  0%|          | 0/1001 [00:00<?, ?it/s]"
      ]
     },
     "metadata": {},
     "output_type": "display_data"
    },
    {
     "name": "stdout",
     "output_type": "stream",
     "text": [
      "{'eval_loss': 1.4227473735809326, 'eval_accuracy': 0.5273090863642045, 'eval_runtime': 70.6766, 'eval_samples_per_second': 113.206, 'eval_steps_per_second': 14.163, 'epoch': 0.31}\n",
      "{'loss': 1.1415, 'learning_rate': 3.1254686328417895e-05, 'epoch': 0.37}\n"
     ]
    },
    {
     "data": {
      "application/vnd.jupyter.widget-view+json": {
       "model_id": "08a10c1d6d1248329c4f170d1c7ed405",
       "version_major": 2,
       "version_minor": 0
      },
      "text/plain": [
       "  0%|          | 0/1001 [00:00<?, ?it/s]"
      ]
     },
     "metadata": {},
     "output_type": "display_data"
    },
    {
     "name": "stdout",
     "output_type": "stream",
     "text": [
      "{'eval_loss': 1.319752812385559, 'eval_accuracy': 0.5545556805399325, 'eval_runtime': 69.5737, 'eval_samples_per_second': 115.0, 'eval_steps_per_second': 14.388, 'epoch': 0.37}\n",
      "{'loss': 1.1814, 'learning_rate': 2.8130467383154213e-05, 'epoch': 0.44}\n"
     ]
    },
    {
     "data": {
      "application/vnd.jupyter.widget-view+json": {
       "model_id": "319026bdaa2d4c3a9223db6195e1dbad",
       "version_major": 2,
       "version_minor": 0
      },
      "text/plain": [
       "  0%|          | 0/1001 [00:00<?, ?it/s]"
      ]
     },
     "metadata": {},
     "output_type": "display_data"
    },
    {
     "name": "stdout",
     "output_type": "stream",
     "text": [
      "{'eval_loss': 1.269870638847351, 'eval_accuracy': 0.5640544931883514, 'eval_runtime': 67.4128, 'eval_samples_per_second': 118.687, 'eval_steps_per_second': 14.849, 'epoch': 0.44}\n",
      "{'loss': 1.1507, 'learning_rate': 2.5006248437890527e-05, 'epoch': 0.5}\n"
     ]
    },
    {
     "data": {
      "application/vnd.jupyter.widget-view+json": {
       "model_id": "ff65b860f3ae4254ae13a7f1752efefa",
       "version_major": 2,
       "version_minor": 0
      },
      "text/plain": [
       "  0%|          | 0/1001 [00:00<?, ?it/s]"
      ]
     },
     "metadata": {},
     "output_type": "display_data"
    },
    {
     "name": "stdout",
     "output_type": "stream",
     "text": [
      "{'eval_loss': 1.2945187091827393, 'eval_accuracy': 0.5546806649168854, 'eval_runtime': 67.2337, 'eval_samples_per_second': 119.003, 'eval_steps_per_second': 14.888, 'epoch': 0.5}\n",
      "{'loss': 1.1215, 'learning_rate': 2.1882029492626845e-05, 'epoch': 0.56}\n"
     ]
    },
    {
     "data": {
      "application/vnd.jupyter.widget-view+json": {
       "model_id": "767585606a2d44cf91b43b47fe2dc1dc",
       "version_major": 2,
       "version_minor": 0
      },
      "text/plain": [
       "  0%|          | 0/1001 [00:00<?, ?it/s]"
      ]
     },
     "metadata": {},
     "output_type": "display_data"
    },
    {
     "name": "stdout",
     "output_type": "stream",
     "text": [
      "{'eval_loss': 1.2534981966018677, 'eval_accuracy': 0.5766779152605924, 'eval_runtime': 66.9354, 'eval_samples_per_second': 119.533, 'eval_steps_per_second': 14.955, 'epoch': 0.56}\n",
      "{'loss': 1.0315, 'learning_rate': 1.8757810547363162e-05, 'epoch': 0.62}\n"
     ]
    },
    {
     "data": {
      "application/vnd.jupyter.widget-view+json": {
       "model_id": "6ab148d95fa54d008c34ffaf136cc4ea",
       "version_major": 2,
       "version_minor": 0
      },
      "text/plain": [
       "  0%|          | 0/1001 [00:00<?, ?it/s]"
      ]
     },
     "metadata": {},
     "output_type": "display_data"
    },
    {
     "name": "stdout",
     "output_type": "stream",
     "text": [
      "{'eval_loss': 1.2179811000823975, 'eval_accuracy': 0.5874265716785402, 'eval_runtime': 71.2846, 'eval_samples_per_second': 112.24, 'eval_steps_per_second': 14.042, 'epoch': 0.62}\n",
      "{'loss': 1.1135, 'learning_rate': 1.5633591602099477e-05, 'epoch': 0.69}\n"
     ]
    },
    {
     "data": {
      "application/vnd.jupyter.widget-view+json": {
       "model_id": "fd10387b42b14a36b89569dccd22e852",
       "version_major": 2,
       "version_minor": 0
      },
      "text/plain": [
       "  0%|          | 0/1001 [00:00<?, ?it/s]"
      ]
     },
     "metadata": {},
     "output_type": "display_data"
    },
    {
     "name": "stdout",
     "output_type": "stream",
     "text": [
      "{'eval_loss': 1.218801736831665, 'eval_accuracy': 0.595925509311336, 'eval_runtime': 70.4849, 'eval_samples_per_second': 113.514, 'eval_steps_per_second': 14.202, 'epoch': 0.69}\n",
      "{'loss': 1.1583, 'learning_rate': 1.2509372656835791e-05, 'epoch': 0.75}\n"
     ]
    },
    {
     "data": {
      "application/vnd.jupyter.widget-view+json": {
       "model_id": "e0198be453404bf2a734655194d5f9be",
       "version_major": 2,
       "version_minor": 0
      },
      "text/plain": [
       "  0%|          | 0/1001 [00:00<?, ?it/s]"
      ]
     },
     "metadata": {},
     "output_type": "display_data"
    },
    {
     "name": "stdout",
     "output_type": "stream",
     "text": [
      "{'eval_loss': 1.1493470668792725, 'eval_accuracy': 0.607549056367954, 'eval_runtime': 70.6826, 'eval_samples_per_second': 113.196, 'eval_steps_per_second': 14.162, 'epoch': 0.75}\n",
      "{'loss': 1.0468, 'learning_rate': 9.385153711572107e-06, 'epoch': 0.81}\n"
     ]
    },
    {
     "data": {
      "application/vnd.jupyter.widget-view+json": {
       "model_id": "c1c44818fdb44bf7bc8d74bcef0d85f2",
       "version_major": 2,
       "version_minor": 0
      },
      "text/plain": [
       "  0%|          | 0/1001 [00:00<?, ?it/s]"
      ]
     },
     "metadata": {},
     "output_type": "display_data"
    },
    {
     "name": "stdout",
     "output_type": "stream",
     "text": [
      "{'eval_loss': 1.132938027381897, 'eval_accuracy': 0.6136732908386452, 'eval_runtime': 72.9496, 'eval_samples_per_second': 109.679, 'eval_steps_per_second': 13.722, 'epoch': 0.81}\n",
      "{'loss': 1.1086, 'learning_rate': 6.260934766308422e-06, 'epoch': 0.87}\n"
     ]
    },
    {
     "data": {
      "application/vnd.jupyter.widget-view+json": {
       "model_id": "80da632198ee4ee3a58edbaab24a688c",
       "version_major": 2,
       "version_minor": 0
      },
      "text/plain": [
       "  0%|          | 0/1001 [00:00<?, ?it/s]"
      ]
     },
     "metadata": {},
     "output_type": "display_data"
    },
    {
     "name": "stdout",
     "output_type": "stream",
     "text": [
      "{'eval_loss': 1.1111972332000732, 'eval_accuracy': 0.621172353455818, 'eval_runtime': 67.4498, 'eval_samples_per_second': 118.621, 'eval_steps_per_second': 14.841, 'epoch': 0.87}\n",
      "{'loss': 1.075, 'learning_rate': 3.136715821044739e-06, 'epoch': 0.94}\n"
     ]
    },
    {
     "data": {
      "application/vnd.jupyter.widget-view+json": {
       "model_id": "bb146019b95044e69622fd1755cc5852",
       "version_major": 2,
       "version_minor": 0
      },
      "text/plain": [
       "  0%|          | 0/1001 [00:00<?, ?it/s]"
      ]
     },
     "metadata": {},
     "output_type": "display_data"
    },
    {
     "name": "stdout",
     "output_type": "stream",
     "text": [
      "{'eval_loss': 1.1009174585342407, 'eval_accuracy': 0.6227971503562054, 'eval_runtime': 68.5163, 'eval_samples_per_second': 116.775, 'eval_steps_per_second': 14.61, 'epoch': 0.94}\n",
      "{'loss': 1.1161, 'learning_rate': 1.2496875781054738e-08, 'epoch': 1.0}\n"
     ]
    },
    {
     "data": {
      "application/vnd.jupyter.widget-view+json": {
       "model_id": "85a492428dfb48c5ae4e2ba2394cd52b",
       "version_major": 2,
       "version_minor": 0
      },
      "text/plain": [
       "  0%|          | 0/1001 [00:00<?, ?it/s]"
      ]
     },
     "metadata": {},
     "output_type": "display_data"
    },
    {
     "name": "stdout",
     "output_type": "stream",
     "text": [
      "{'eval_loss': 1.0859670639038086, 'eval_accuracy': 0.6247969003874516, 'eval_runtime': 74.6635, 'eval_samples_per_second': 107.161, 'eval_steps_per_second': 13.407, 'epoch': 1.0}\n",
      "{'train_runtime': 1978.7833, 'train_samples_per_second': 16.174, 'train_steps_per_second': 2.022, 'train_loss': 1.1768115947497424, 'epoch': 1.0}\n"
     ]
    }
   ],
   "source": [
    "train_result = trainer.train()"
   ]
  },
  {
   "cell_type": "code",
   "execution_count": 23,
   "metadata": {},
   "outputs": [],
   "source": [
    "trainer.save_model(\"BERT-finetuned\")"
   ]
  },
  {
   "cell_type": "code",
   "execution_count": 32,
   "metadata": {},
   "outputs": [
    {
     "data": {
      "text/plain": [
       "[{'loss': 1.473,\n",
       "  'learning_rate': 4.687578105473632e-05,\n",
       "  'epoch': 0.06,\n",
       "  'step': 250},\n",
       " {'eval_loss': 1.4664937257766724,\n",
       "  'eval_accuracy': 0.47531558555180603,\n",
       "  'eval_runtime': 71.9587,\n",
       "  'eval_samples_per_second': 111.189,\n",
       "  'eval_steps_per_second': 13.911,\n",
       "  'epoch': 0.06,\n",
       "  'step': 250},\n",
       " {'loss': 1.3836,\n",
       "  'learning_rate': 4.375156210947263e-05,\n",
       "  'epoch': 0.12,\n",
       "  'step': 500},\n",
       " {'eval_loss': 1.4849059581756592,\n",
       "  'eval_accuracy': 0.4905636795400575,\n",
       "  'eval_runtime': 70.7281,\n",
       "  'eval_samples_per_second': 113.123,\n",
       "  'eval_steps_per_second': 14.153,\n",
       "  'epoch': 0.12,\n",
       "  'step': 500},\n",
       " {'loss': 1.2876,\n",
       "  'learning_rate': 4.0627343164208945e-05,\n",
       "  'epoch': 0.19,\n",
       "  'step': 750},\n",
       " {'eval_loss': 1.5155967473983765,\n",
       "  'eval_accuracy': 0.4759405074365704,\n",
       "  'eval_runtime': 71.5619,\n",
       "  'eval_samples_per_second': 111.805,\n",
       "  'eval_steps_per_second': 13.988,\n",
       "  'epoch': 0.19,\n",
       "  'step': 750},\n",
       " {'loss': 1.2571,\n",
       "  'learning_rate': 3.7503124218945266e-05,\n",
       "  'epoch': 0.25,\n",
       "  'step': 1000},\n",
       " {'eval_loss': 1.5133440494537354,\n",
       "  'eval_accuracy': 0.485814273215848,\n",
       "  'eval_runtime': 70.2082,\n",
       "  'eval_samples_per_second': 113.961,\n",
       "  'eval_steps_per_second': 14.258,\n",
       "  'epoch': 0.25,\n",
       "  'step': 1000},\n",
       " {'loss': 1.183,\n",
       "  'learning_rate': 3.437890527368158e-05,\n",
       "  'epoch': 0.31,\n",
       "  'step': 1250},\n",
       " {'eval_loss': 1.4227473735809326,\n",
       "  'eval_accuracy': 0.5273090863642045,\n",
       "  'eval_runtime': 70.6766,\n",
       "  'eval_samples_per_second': 113.206,\n",
       "  'eval_steps_per_second': 14.163,\n",
       "  'epoch': 0.31,\n",
       "  'step': 1250},\n",
       " {'loss': 1.1415,\n",
       "  'learning_rate': 3.1254686328417895e-05,\n",
       "  'epoch': 0.37,\n",
       "  'step': 1500},\n",
       " {'eval_loss': 1.319752812385559,\n",
       "  'eval_accuracy': 0.5545556805399325,\n",
       "  'eval_runtime': 69.5737,\n",
       "  'eval_samples_per_second': 115.0,\n",
       "  'eval_steps_per_second': 14.388,\n",
       "  'epoch': 0.37,\n",
       "  'step': 1500},\n",
       " {'loss': 1.1814,\n",
       "  'learning_rate': 2.8130467383154213e-05,\n",
       "  'epoch': 0.44,\n",
       "  'step': 1750},\n",
       " {'eval_loss': 1.269870638847351,\n",
       "  'eval_accuracy': 0.5640544931883514,\n",
       "  'eval_runtime': 67.4128,\n",
       "  'eval_samples_per_second': 118.687,\n",
       "  'eval_steps_per_second': 14.849,\n",
       "  'epoch': 0.44,\n",
       "  'step': 1750},\n",
       " {'loss': 1.1507,\n",
       "  'learning_rate': 2.5006248437890527e-05,\n",
       "  'epoch': 0.5,\n",
       "  'step': 2000},\n",
       " {'eval_loss': 1.2945187091827393,\n",
       "  'eval_accuracy': 0.5546806649168854,\n",
       "  'eval_runtime': 67.2337,\n",
       "  'eval_samples_per_second': 119.003,\n",
       "  'eval_steps_per_second': 14.888,\n",
       "  'epoch': 0.5,\n",
       "  'step': 2000},\n",
       " {'loss': 1.1215,\n",
       "  'learning_rate': 2.1882029492626845e-05,\n",
       "  'epoch': 0.56,\n",
       "  'step': 2250},\n",
       " {'eval_loss': 1.2534981966018677,\n",
       "  'eval_accuracy': 0.5766779152605924,\n",
       "  'eval_runtime': 66.9354,\n",
       "  'eval_samples_per_second': 119.533,\n",
       "  'eval_steps_per_second': 14.955,\n",
       "  'epoch': 0.56,\n",
       "  'step': 2250},\n",
       " {'loss': 1.0315,\n",
       "  'learning_rate': 1.8757810547363162e-05,\n",
       "  'epoch': 0.62,\n",
       "  'step': 2500},\n",
       " {'eval_loss': 1.2179811000823975,\n",
       "  'eval_accuracy': 0.5874265716785402,\n",
       "  'eval_runtime': 71.2846,\n",
       "  'eval_samples_per_second': 112.24,\n",
       "  'eval_steps_per_second': 14.042,\n",
       "  'epoch': 0.62,\n",
       "  'step': 2500},\n",
       " {'loss': 1.1135,\n",
       "  'learning_rate': 1.5633591602099477e-05,\n",
       "  'epoch': 0.69,\n",
       "  'step': 2750},\n",
       " {'eval_loss': 1.218801736831665,\n",
       "  'eval_accuracy': 0.595925509311336,\n",
       "  'eval_runtime': 70.4849,\n",
       "  'eval_samples_per_second': 113.514,\n",
       "  'eval_steps_per_second': 14.202,\n",
       "  'epoch': 0.69,\n",
       "  'step': 2750},\n",
       " {'loss': 1.1583,\n",
       "  'learning_rate': 1.2509372656835791e-05,\n",
       "  'epoch': 0.75,\n",
       "  'step': 3000},\n",
       " {'eval_loss': 1.1493470668792725,\n",
       "  'eval_accuracy': 0.607549056367954,\n",
       "  'eval_runtime': 70.6826,\n",
       "  'eval_samples_per_second': 113.196,\n",
       "  'eval_steps_per_second': 14.162,\n",
       "  'epoch': 0.75,\n",
       "  'step': 3000},\n",
       " {'loss': 1.0468,\n",
       "  'learning_rate': 9.385153711572107e-06,\n",
       "  'epoch': 0.81,\n",
       "  'step': 3250},\n",
       " {'eval_loss': 1.132938027381897,\n",
       "  'eval_accuracy': 0.6136732908386452,\n",
       "  'eval_runtime': 72.9496,\n",
       "  'eval_samples_per_second': 109.679,\n",
       "  'eval_steps_per_second': 13.722,\n",
       "  'epoch': 0.81,\n",
       "  'step': 3250},\n",
       " {'loss': 1.1086,\n",
       "  'learning_rate': 6.260934766308422e-06,\n",
       "  'epoch': 0.87,\n",
       "  'step': 3500},\n",
       " {'eval_loss': 1.1111972332000732,\n",
       "  'eval_accuracy': 0.621172353455818,\n",
       "  'eval_runtime': 67.4498,\n",
       "  'eval_samples_per_second': 118.621,\n",
       "  'eval_steps_per_second': 14.841,\n",
       "  'epoch': 0.87,\n",
       "  'step': 3500},\n",
       " {'loss': 1.075,\n",
       "  'learning_rate': 3.136715821044739e-06,\n",
       "  'epoch': 0.94,\n",
       "  'step': 3750},\n",
       " {'eval_loss': 1.1009174585342407,\n",
       "  'eval_accuracy': 0.6227971503562054,\n",
       "  'eval_runtime': 68.5163,\n",
       "  'eval_samples_per_second': 116.775,\n",
       "  'eval_steps_per_second': 14.61,\n",
       "  'epoch': 0.94,\n",
       "  'step': 3750},\n",
       " {'loss': 1.1161,\n",
       "  'learning_rate': 1.2496875781054738e-08,\n",
       "  'epoch': 1.0,\n",
       "  'step': 4000},\n",
       " {'eval_loss': 1.0859670639038086,\n",
       "  'eval_accuracy': 0.6247969003874516,\n",
       "  'eval_runtime': 74.6635,\n",
       "  'eval_samples_per_second': 107.161,\n",
       "  'eval_steps_per_second': 13.407,\n",
       "  'epoch': 1.0,\n",
       "  'step': 4000},\n",
       " {'train_runtime': 1978.7833,\n",
       "  'train_samples_per_second': 16.174,\n",
       "  'train_steps_per_second': 2.022,\n",
       "  'total_flos': 4240015863164928.0,\n",
       "  'train_loss': 1.1768115947497424,\n",
       "  'epoch': 1.0,\n",
       "  'step': 4001}]"
      ]
     },
     "execution_count": 32,
     "metadata": {},
     "output_type": "execute_result"
    }
   ],
   "source": [
    "trainer.state.log_history"
   ]
  },
  {
   "cell_type": "code",
   "execution_count": 33,
   "metadata": {},
   "outputs": [],
   "source": [
    "with open(, 'w') as f:\n",
    "    for state in trainer.state.log_history:\n",
    "        f.write(f\"{state}\\n\")"
   ]
  },
  {
   "cell_type": "code",
   "execution_count": 25,
   "metadata": {},
   "outputs": [],
   "source": [
    "import matplotlib.pyplot as plt"
   ]
  },
  {
   "cell_type": "code",
   "execution_count": 26,
   "metadata": {},
   "outputs": [],
   "source": [
    "train_loss_list = []\n",
    "eval_loss_list = []\n",
    "eval_acc_list = []\n",
    "epoch_train_list = []\n",
    "epoch_eval_list = []\n",
    "\n",
    "\n",
    "for state in trainer.state.log_history:\n",
    "    if \"loss\" in state:\n",
    "        train_loss_list.append(state[\"loss\"])\n",
    "        epoch_train_list.append(state[\"epoch\"])\n",
    "    elif \"eval_loss\" in state:\n",
    "        eval_loss_list.append(state[\"eval_loss\"])\n",
    "        eval_acc_list.append(state[\"eval_accuracy\"])\n",
    "        epoch_eval_list.append(state[\"epoch\"])"
   ]
  },
  {
   "cell_type": "code",
   "execution_count": 27,
   "metadata": {},
   "outputs": [
    {
     "data": {
      "image/png": "[encoded data removed]",
      "text/plain": [
       "<Figure size 640x480 with 1 Axes>"
      ]
     },
     "metadata": {},
     "output_type": "display_data"
    }
   ],
   "source": [
    "plt.plot(epoch_train_list, train_loss_list)\n",
    "plt.plot(epoch_eval_list, eval_loss_list)\n",
    "plt.title(\"RoBERTa Finetuning Loss\")\n",
    "plt.legend(['Train Loss', 'Validation Loss'])\n",
    "plt.xlabel(\"Epoch\")\n",
    "plt.ylabel(\"Loss\")\n",
    "plt.show()"
   ]
  },
  {
   "cell_type": "code",
   "execution_count": 28,
   "metadata": {},
   "outputs": [
    {
     "data": {
      "image/png": "[encoded data removed]",
      "text/plain": [
       "<Figure size 640x480 with 1 Axes>"
      ]
     },
     "metadata": {},
     "output_type": "display_data"
    }
   ],
   "source": [
    "plt.plot(epoch_eval_list, eval_acc_list)\n",
    "plt.title(\"RoBERTa Finetuning Accuracy\")\n",
    "plt.xlabel(\"Epoch\")\n",
    "plt.ylabel(\"Accuracy\")\n",
    "plt.show()"
   ]
  }
 ],
 "metadata": {
  "kernelspec": {
   "display_name": "E208_F23",
   "language": "python",
   "name": "python3"
  },
  "language_info": {
   "codemirror_mode": {
    "name": "ipython",
    "version": 3
   },
   "file_extension": ".py",
   "mimetype": "text/x-python",
   "name": "python",
   "nbconvert_exporter": "python",
   "pygments_lexer": "ipython3",
   "version": "3.10.13"
  }
 },
 "nbformat": 4,
 "nbformat_minor": 2
}
