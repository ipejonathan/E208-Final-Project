{
 "cells": [
  {
   "cell_type": "code",
   "execution_count": null,
   "metadata": {},
   "outputs": [],
   "source": [
    "# Install `transformers` from master\n",
    "%pip install git+https://github.com/huggingface/transformers\n",
    "%pip list | grep -E 'transformers|tokenizers'\n",
    "# transformers version at notebook update --- 2.11.0\n",
    "# tokenizers version at notebook update --- 0.8.0rc1"
   ]
  },
  {
   "cell_type": "code",
   "execution_count": 1,
   "metadata": {},
   "outputs": [],
   "source": [
    "from tokenizers.implementations import ByteLevelBPETokenizer\n",
    "from tokenizers.processors import BertProcessing\n",
    "\n",
    "\n",
    "tokenizer = ByteLevelBPETokenizer(\n",
    "    \"BPEtokenizer/vocab.json\",\n",
    "    \"BPEtokenizer/merges.txt\",\n",
    ")"
   ]
  },
  {
   "cell_type": "code",
   "execution_count": 2,
   "metadata": {},
   "outputs": [],
   "source": [
    "tokenizer._tokenizer.post_processor = BertProcessing(\n",
    "    (\"</s>\", tokenizer.token_to_id(\"</s>\")),\n",
    "    (\"<s>\", tokenizer.token_to_id(\"<s>\")),\n",
    ")\n",
    "tokenizer.enable_truncation(max_length=512)"
   ]
  },
  {
   "cell_type": "code",
   "execution_count": 3,
   "metadata": {},
   "outputs": [],
   "source": [
    "from transformers import RobertaConfig\n",
    "\n",
    "config = RobertaConfig(\n",
    "    vocab_size=50_000,\n",
    "    max_position_embeddings=514,\n",
    "    num_attention_heads=12,\n",
    "    num_hidden_layers=6,\n",
    "    type_vocab_size=1,\n",
    ")"
   ]
  },
  {
   "cell_type": "code",
   "execution_count": 4,
   "metadata": {},
   "outputs": [],
   "source": [
    "from transformers import RobertaTokenizerFast\n",
    "\n",
    "tokenizer = RobertaTokenizerFast.from_pretrained(\"BPEtokenizer\", max_len=512)"
   ]
  },
  {
   "cell_type": "code",
   "execution_count": 5,
   "metadata": {},
   "outputs": [],
   "source": [
    "from transformers import RobertaForMaskedLM\n",
    "\n",
    "model = RobertaForMaskedLM(config=config)"
   ]
  },
  {
   "cell_type": "code",
   "execution_count": 6,
   "metadata": {},
   "outputs": [
    {
     "data": {
      "text/plain": [
       "81966416"
      ]
     },
     "execution_count": 6,
     "metadata": {},
     "output_type": "execute_result"
    }
   ],
   "source": [
    "model.num_parameters()\n",
    "# => 84 million parameters"
   ]
  },
  {
   "cell_type": "code",
   "execution_count": 7,
   "metadata": {},
   "outputs": [
    {
     "name": "stderr",
     "output_type": "stream",
     "text": [
      "Found cached dataset text (C:/Users/Jonathan Ipe/.cache/huggingface/datasets/text/default-380bcce244e545de/0.0.0/cb1e9bd71a82ad27976be3b12b407850fe2837d80c22c5e03a28949843a8ace2)\n"
     ]
    },
    {
     "data": {
      "text/plain": [
       "Dataset({\n",
       "    features: ['text'],\n",
       "    num_rows: 28046\n",
       "})"
      ]
     },
     "execution_count": 7,
     "metadata": {},
     "output_type": "execute_result"
    }
   ],
   "source": [
    "from datasets import load_dataset\n",
    "dataset = load_dataset(\"text\", data_files=\"data/unlabeled_data_sentences.txt\", split='train') #, split='train', streaming=True)\n",
    "# dataset = load_dataset(\"text\", data_files=r\"..\\ttmp\\unlabeled_data_sentences.txt\", split='train').shuffle()\n",
    "dataset"
   ]
  },
  {
   "cell_type": "code",
   "execution_count": 8,
   "metadata": {},
   "outputs": [
    {
     "data": {
      "text/plain": [
       "DatasetDict({\n",
       "    train: Dataset({\n",
       "        features: ['text'],\n",
       "        num_rows: 22436\n",
       "    })\n",
       "    test: Dataset({\n",
       "        features: ['text'],\n",
       "        num_rows: 5610\n",
       "    })\n",
       "})"
      ]
     },
     "execution_count": 8,
     "metadata": {},
     "output_type": "execute_result"
    }
   ],
   "source": [
    "dataset = dataset.train_test_split(test_size=0.2)\n",
    "dataset"
   ]
  },
  {
   "cell_type": "code",
   "execution_count": 9,
   "metadata": {},
   "outputs": [
    {
     "data": {
      "application/vnd.jupyter.widget-view+json": {
       "model_id": "f36eed31143441faa1e9e58f3207f723",
       "version_major": 2,
       "version_minor": 0
      },
      "text/plain": [
       "Map:   0%|          | 0/22436 [00:00<?, ? examples/s]"
      ]
     },
     "metadata": {},
     "output_type": "display_data"
    },
    {
     "data": {
      "application/vnd.jupyter.widget-view+json": {
       "model_id": "ad292aab556d42ad850e51f6bd59733b",
       "version_major": 2,
       "version_minor": 0
      },
      "text/plain": [
       "Map:   0%|          | 0/5610 [00:00<?, ? examples/s]"
      ]
     },
     "metadata": {},
     "output_type": "display_data"
    }
   ],
   "source": [
    "def tokenize_function(examples):\n",
    "    return tokenizer(examples[\"text\"], truncation=True, padding='max_length', max_length=512)\n",
    "\n",
    "tokenized_datasets = dataset.map(tokenize_function, batched=True)"
   ]
  },
  {
   "cell_type": "code",
   "execution_count": 10,
   "metadata": {},
   "outputs": [
    {
     "data": {
      "text/plain": [
       "DatasetDict({\n",
       "    train: Dataset({\n",
       "        features: ['text', 'input_ids', 'attention_mask'],\n",
       "        num_rows: 22436\n",
       "    })\n",
       "    test: Dataset({\n",
       "        features: ['text', 'input_ids', 'attention_mask'],\n",
       "        num_rows: 5610\n",
       "    })\n",
       "})"
      ]
     },
     "execution_count": 10,
     "metadata": {},
     "output_type": "execute_result"
    }
   ],
   "source": [
    "tokenized_datasets"
   ]
  },
  {
   "cell_type": "code",
   "execution_count": 11,
   "metadata": {},
   "outputs": [],
   "source": [
    "train_dataset = tokenized_datasets['train']\n",
    "val_dataset = tokenized_datasets['test']"
   ]
  },
  {
   "cell_type": "code",
   "execution_count": 12,
   "metadata": {},
   "outputs": [],
   "source": [
    "# # Splitting the dataset\n",
    "# train_dataset_size = 1000  # Specify the number of training data points\n",
    "# val_dataset_size = 250    # Specify the number of validation data points\n",
    "\n",
    "# train_dataset = tokenized_datasets.take(train_dataset_size)\n",
    "# val_dataset = tokenized_datasets.skip(train_dataset_size).take(val_dataset_size)"
   ]
  },
  {
   "cell_type": "code",
   "execution_count": 13,
   "metadata": {},
   "outputs": [],
   "source": [
    "# %%time\n",
    "# from transformers import LineByLineTextDataset\n",
    "\n",
    "# dataset = LineByLineTextDataset(\n",
    "#     tokenizer=tokenizer,\n",
    "#     file_path=\"unlabeled_data_sentences.txt\",\n",
    "#     block_size=128,\n",
    "# )"
   ]
  },
  {
   "cell_type": "code",
   "execution_count": 14,
   "metadata": {},
   "outputs": [],
   "source": [
    "from transformers import DataCollatorForLanguageModeling\n",
    "\n",
    "data_collator = DataCollatorForLanguageModeling(\n",
    "    tokenizer=tokenizer, mlm=True, mlm_probability=0.15\n",
    ")"
   ]
  },
  {
   "cell_type": "code",
   "execution_count": 13,
   "metadata": {},
   "outputs": [],
   "source": [
    "from sklearn.metrics import accuracy_score\n",
    "import numpy as np\n",
    "\n",
    "def compute_metrics(p):\n",
    "    predictions, labels = p\n",
    "    predictions = np.argmax(predictions, axis=1)\n",
    "    accuracy = accuracy_score(labels, predictions)\n",
    "    return {\"accuracy\": accuracy}"
   ]
  },
  {
   "cell_type": "code",
   "execution_count": 15,
   "metadata": {},
   "outputs": [],
   "source": [
    "import torch"
   ]
  },
  {
   "cell_type": "code",
   "execution_count": 16,
   "metadata": {},
   "outputs": [
    {
     "data": {
      "text/plain": [
       "True"
      ]
     },
     "execution_count": 16,
     "metadata": {},
     "output_type": "execute_result"
    }
   ],
   "source": [
    "torch.cuda.is_available()"
   ]
  },
  {
   "cell_type": "code",
   "execution_count": 20,
   "metadata": {},
   "outputs": [],
   "source": [
    "from transformers import Trainer, TrainingArguments\n",
    "\n",
    "training_args = TrainingArguments(\n",
    "    output_dir=\"BERT-Pretrained\",\n",
    "    # report_to=\"wandb\",\n",
    "    overwrite_output_dir=True,\n",
    "    num_train_epochs=1,\n",
    "    per_device_train_batch_size=8,\n",
    "    per_device_eval_batch_size=8,\n",
    "    save_steps=10_000,\n",
    "    evaluation_strategy=\"steps\",\n",
    "    eval_steps=250,\n",
    "    # save_total_limit=2,\n",
    "    # max_steps=100,  # specify the number of steps\n",
    "    # logging_dir='./logs',  # directory for storing logs\n",
    "    logging_steps=250,  # log training information every 250 steps\n",
    "    # load_best_model_at_end=True,  # load the best model at the end of training\n",
    ")\n",
    "\n",
    "trainer = Trainer(\n",
    "    model=model,\n",
    "    args=training_args,\n",
    "    data_collator=data_collator,\n",
    "    train_dataset=train_dataset,\n",
    "    eval_dataset=val_dataset,  # If you have a validation dataset\n",
    "    # compute_metrics=compute_metrics\n",
    ")"
   ]
  },
  {
   "cell_type": "code",
   "execution_count": 21,
   "metadata": {},
   "outputs": [
    {
     "data": {
      "application/vnd.jupyter.widget-view+json": {
       "model_id": "556bb10548de46efbc3596ad6ffff814",
       "version_major": 2,
       "version_minor": 0
      },
      "text/plain": [
       "  0%|          | 0/2805 [00:00<?, ?it/s]"
      ]
     },
     "metadata": {},
     "output_type": "display_data"
    },
    {
     "name": "stdout",
     "output_type": "stream",
     "text": [
      "{'loss': 4.0582, 'learning_rate': 4.554367201426025e-05, 'epoch': 0.09}\n"
     ]
    },
    {
     "data": {
      "application/vnd.jupyter.widget-view+json": {
       "model_id": "e80f10f3dc7f4e48bcc395074941d227",
       "version_major": 2,
       "version_minor": 0
      },
      "text/plain": [
       "  0%|          | 0/702 [00:00<?, ?it/s]"
      ]
     },
     "metadata": {},
     "output_type": "display_data"
    },
    {
     "name": "stdout",
     "output_type": "stream",
     "text": [
      "{'eval_loss': 3.8696789741516113, 'eval_runtime': 77.2347, 'eval_samples_per_second': 72.636, 'eval_steps_per_second': 9.089, 'epoch': 0.09}\n",
      "{'loss': 3.8414, 'learning_rate': 4.10873440285205e-05, 'epoch': 0.18}\n"
     ]
    },
    {
     "data": {
      "application/vnd.jupyter.widget-view+json": {
       "model_id": "fc5ce1e4fa664a7194bd1ab822809720",
       "version_major": 2,
       "version_minor": 0
      },
      "text/plain": [
       "  0%|          | 0/702 [00:00<?, ?it/s]"
      ]
     },
     "metadata": {},
     "output_type": "display_data"
    },
    {
     "name": "stdout",
     "output_type": "stream",
     "text": [
      "{'eval_loss': 3.794822931289673, 'eval_runtime': 77.1787, 'eval_samples_per_second': 72.688, 'eval_steps_per_second': 9.096, 'epoch': 0.18}\n",
      "{'loss': 3.7749, 'learning_rate': 3.6631016042780753e-05, 'epoch': 0.27}\n"
     ]
    },
    {
     "data": {
      "application/vnd.jupyter.widget-view+json": {
       "model_id": "1ec4f3fd6eaf4d94a92190d7fe5c41ce",
       "version_major": 2,
       "version_minor": 0
      },
      "text/plain": [
       "  0%|          | 0/702 [00:00<?, ?it/s]"
      ]
     },
     "metadata": {},
     "output_type": "display_data"
    },
    {
     "name": "stdout",
     "output_type": "stream",
     "text": [
      "{'eval_loss': 3.770946741104126, 'eval_runtime': 75.0784, 'eval_samples_per_second': 74.722, 'eval_steps_per_second': 9.35, 'epoch': 0.27}\n",
      "{'loss': 3.7509, 'learning_rate': 3.2174688057041004e-05, 'epoch': 0.36}\n"
     ]
    },
    {
     "data": {
      "application/vnd.jupyter.widget-view+json": {
       "model_id": "4dc1fcf7e48f4932ade16c6ff3cddae8",
       "version_major": 2,
       "version_minor": 0
      },
      "text/plain": [
       "  0%|          | 0/702 [00:00<?, ?it/s]"
      ]
     },
     "metadata": {},
     "output_type": "display_data"
    },
    {
     "name": "stdout",
     "output_type": "stream",
     "text": [
      "{'eval_loss': 3.7293686866760254, 'eval_runtime': 74.9973, 'eval_samples_per_second': 74.803, 'eval_steps_per_second': 9.36, 'epoch': 0.36}\n",
      "{'loss': 3.7294, 'learning_rate': 2.7718360071301247e-05, 'epoch': 0.45}\n"
     ]
    },
    {
     "data": {
      "application/vnd.jupyter.widget-view+json": {
       "model_id": "271b5654f05e463491dd9e366d78d0bb",
       "version_major": 2,
       "version_minor": 0
      },
      "text/plain": [
       "  0%|          | 0/702 [00:00<?, ?it/s]"
      ]
     },
     "metadata": {},
     "output_type": "display_data"
    },
    {
     "name": "stdout",
     "output_type": "stream",
     "text": [
      "{'eval_loss': 3.7203855514526367, 'eval_runtime': 75.0083, 'eval_samples_per_second': 74.792, 'eval_steps_per_second': 9.359, 'epoch': 0.45}\n",
      "{'loss': 3.7186, 'learning_rate': 2.32620320855615e-05, 'epoch': 0.53}\n"
     ]
    },
    {
     "data": {
      "application/vnd.jupyter.widget-view+json": {
       "model_id": "56bb6dda8c1842bf981e751b7412d53b",
       "version_major": 2,
       "version_minor": 0
      },
      "text/plain": [
       "  0%|          | 0/702 [00:00<?, ?it/s]"
      ]
     },
     "metadata": {},
     "output_type": "display_data"
    },
    {
     "name": "stdout",
     "output_type": "stream",
     "text": [
      "{'eval_loss': 3.7087326049804688, 'eval_runtime': 75.0674, 'eval_samples_per_second': 74.733, 'eval_steps_per_second': 9.352, 'epoch': 0.53}\n",
      "{'loss': 3.7132, 'learning_rate': 1.8805704099821748e-05, 'epoch': 0.62}\n"
     ]
    },
    {
     "data": {
      "application/vnd.jupyter.widget-view+json": {
       "model_id": "d4d7e9f9b11b4f4db269ab763385abce",
       "version_major": 2,
       "version_minor": 0
      },
      "text/plain": [
       "  0%|          | 0/702 [00:00<?, ?it/s]"
      ]
     },
     "metadata": {},
     "output_type": "display_data"
    },
    {
     "name": "stdout",
     "output_type": "stream",
     "text": [
      "{'eval_loss': 3.6946613788604736, 'eval_runtime': 74.9913, 'eval_samples_per_second': 74.809, 'eval_steps_per_second': 9.361, 'epoch': 0.62}\n",
      "{'loss': 3.7066, 'learning_rate': 1.4349376114081997e-05, 'epoch': 0.71}\n"
     ]
    },
    {
     "data": {
      "application/vnd.jupyter.widget-view+json": {
       "model_id": "94dd8ce676be4c3ba77d1ac79a1c4f8d",
       "version_major": 2,
       "version_minor": 0
      },
      "text/plain": [
       "  0%|          | 0/702 [00:00<?, ?it/s]"
      ]
     },
     "metadata": {},
     "output_type": "display_data"
    },
    {
     "name": "stdout",
     "output_type": "stream",
     "text": [
      "{'eval_loss': 3.682863235473633, 'eval_runtime': 77.0556, 'eval_samples_per_second': 72.805, 'eval_steps_per_second': 9.11, 'epoch': 0.71}\n",
      "{'loss': 3.684, 'learning_rate': 9.893048128342247e-06, 'epoch': 0.8}\n"
     ]
    },
    {
     "data": {
      "application/vnd.jupyter.widget-view+json": {
       "model_id": "b2821e20a8764d91a64fc5ed688a6876",
       "version_major": 2,
       "version_minor": 0
      },
      "text/plain": [
       "  0%|          | 0/702 [00:00<?, ?it/s]"
      ]
     },
     "metadata": {},
     "output_type": "display_data"
    },
    {
     "name": "stdout",
     "output_type": "stream",
     "text": [
      "{'eval_loss': 3.6821227073669434, 'eval_runtime': 74.8682, 'eval_samples_per_second': 74.932, 'eval_steps_per_second': 9.376, 'epoch': 0.8}\n",
      "{'loss': 3.6927, 'learning_rate': 5.436720142602496e-06, 'epoch': 0.89}\n"
     ]
    },
    {
     "data": {
      "application/vnd.jupyter.widget-view+json": {
       "model_id": "9f9b15fb3d1742168896d3c2e6070d43",
       "version_major": 2,
       "version_minor": 0
      },
      "text/plain": [
       "  0%|          | 0/702 [00:00<?, ?it/s]"
      ]
     },
     "metadata": {},
     "output_type": "display_data"
    },
    {
     "name": "stdout",
     "output_type": "stream",
     "text": [
      "{'eval_loss': 3.6658966541290283, 'eval_runtime': 74.9207, 'eval_samples_per_second': 74.879, 'eval_steps_per_second': 9.37, 'epoch': 0.89}\n",
      "{'loss': 3.671, 'learning_rate': 9.80392156862745e-07, 'epoch': 0.98}\n"
     ]
    },
    {
     "data": {
      "application/vnd.jupyter.widget-view+json": {
       "model_id": "47b2d1b3743c414f98564adcdf9a5074",
       "version_major": 2,
       "version_minor": 0
      },
      "text/plain": [
       "  0%|          | 0/702 [00:00<?, ?it/s]"
      ]
     },
     "metadata": {},
     "output_type": "display_data"
    },
    {
     "name": "stdout",
     "output_type": "stream",
     "text": [
      "{'eval_loss': 3.670527935028076, 'eval_runtime': 74.9443, 'eval_samples_per_second': 74.856, 'eval_steps_per_second': 9.367, 'epoch': 0.98}\n",
      "{'train_runtime': 4143.1342, 'train_samples_per_second': 5.415, 'train_steps_per_second': 0.677, 'train_loss': 3.7561766544552837, 'epoch': 1.0}\n",
      "CPU times: total: 1h 9min 9s\n",
      "Wall time: 1h 9min 3s\n"
     ]
    }
   ],
   "source": [
    "%%time\n",
    "train_result = trainer.train()"
   ]
  },
  {
   "cell_type": "code",
   "execution_count": 22,
   "metadata": {},
   "outputs": [],
   "source": [
    "trainer.save_model(\"BERT-Pretrained\")"
   ]
  },
  {
   "cell_type": "code",
   "execution_count": 23,
   "metadata": {},
   "outputs": [
    {
     "data": {
      "text/plain": [
       "[{'loss': 4.0582,\n",
       "  'learning_rate': 4.554367201426025e-05,\n",
       "  'epoch': 0.09,\n",
       "  'step': 250},\n",
       " {'eval_loss': 3.8696789741516113,\n",
       "  'eval_runtime': 77.2347,\n",
       "  'eval_samples_per_second': 72.636,\n",
       "  'eval_steps_per_second': 9.089,\n",
       "  'epoch': 0.09,\n",
       "  'step': 250},\n",
       " {'loss': 3.8414,\n",
       "  'learning_rate': 4.10873440285205e-05,\n",
       "  'epoch': 0.18,\n",
       "  'step': 500},\n",
       " {'eval_loss': 3.794822931289673,\n",
       "  'eval_runtime': 77.1787,\n",
       "  'eval_samples_per_second': 72.688,\n",
       "  'eval_steps_per_second': 9.096,\n",
       "  'epoch': 0.18,\n",
       "  'step': 500},\n",
       " {'loss': 3.7749,\n",
       "  'learning_rate': 3.6631016042780753e-05,\n",
       "  'epoch': 0.27,\n",
       "  'step': 750},\n",
       " {'eval_loss': 3.770946741104126,\n",
       "  'eval_runtime': 75.0784,\n",
       "  'eval_samples_per_second': 74.722,\n",
       "  'eval_steps_per_second': 9.35,\n",
       "  'epoch': 0.27,\n",
       "  'step': 750},\n",
       " {'loss': 3.7509,\n",
       "  'learning_rate': 3.2174688057041004e-05,\n",
       "  'epoch': 0.36,\n",
       "  'step': 1000},\n",
       " {'eval_loss': 3.7293686866760254,\n",
       "  'eval_runtime': 74.9973,\n",
       "  'eval_samples_per_second': 74.803,\n",
       "  'eval_steps_per_second': 9.36,\n",
       "  'epoch': 0.36,\n",
       "  'step': 1000},\n",
       " {'loss': 3.7294,\n",
       "  'learning_rate': 2.7718360071301247e-05,\n",
       "  'epoch': 0.45,\n",
       "  'step': 1250},\n",
       " {'eval_loss': 3.7203855514526367,\n",
       "  'eval_runtime': 75.0083,\n",
       "  'eval_samples_per_second': 74.792,\n",
       "  'eval_steps_per_second': 9.359,\n",
       "  'epoch': 0.45,\n",
       "  'step': 1250},\n",
       " {'loss': 3.7186,\n",
       "  'learning_rate': 2.32620320855615e-05,\n",
       "  'epoch': 0.53,\n",
       "  'step': 1500},\n",
       " {'eval_loss': 3.7087326049804688,\n",
       "  'eval_runtime': 75.0674,\n",
       "  'eval_samples_per_second': 74.733,\n",
       "  'eval_steps_per_second': 9.352,\n",
       "  'epoch': 0.53,\n",
       "  'step': 1500},\n",
       " {'loss': 3.7132,\n",
       "  'learning_rate': 1.8805704099821748e-05,\n",
       "  'epoch': 0.62,\n",
       "  'step': 1750},\n",
       " {'eval_loss': 3.6946613788604736,\n",
       "  'eval_runtime': 74.9913,\n",
       "  'eval_samples_per_second': 74.809,\n",
       "  'eval_steps_per_second': 9.361,\n",
       "  'epoch': 0.62,\n",
       "  'step': 1750},\n",
       " {'loss': 3.7066,\n",
       "  'learning_rate': 1.4349376114081997e-05,\n",
       "  'epoch': 0.71,\n",
       "  'step': 2000},\n",
       " {'eval_loss': 3.682863235473633,\n",
       "  'eval_runtime': 77.0556,\n",
       "  'eval_samples_per_second': 72.805,\n",
       "  'eval_steps_per_second': 9.11,\n",
       "  'epoch': 0.71,\n",
       "  'step': 2000},\n",
       " {'loss': 3.684,\n",
       "  'learning_rate': 9.893048128342247e-06,\n",
       "  'epoch': 0.8,\n",
       "  'step': 2250},\n",
       " {'eval_loss': 3.6821227073669434,\n",
       "  'eval_runtime': 74.8682,\n",
       "  'eval_samples_per_second': 74.932,\n",
       "  'eval_steps_per_second': 9.376,\n",
       "  'epoch': 0.8,\n",
       "  'step': 2250},\n",
       " {'loss': 3.6927,\n",
       "  'learning_rate': 5.436720142602496e-06,\n",
       "  'epoch': 0.89,\n",
       "  'step': 2500},\n",
       " {'eval_loss': 3.6658966541290283,\n",
       "  'eval_runtime': 74.9207,\n",
       "  'eval_samples_per_second': 74.879,\n",
       "  'eval_steps_per_second': 9.37,\n",
       "  'epoch': 0.89,\n",
       "  'step': 2500},\n",
       " {'loss': 3.671,\n",
       "  'learning_rate': 9.80392156862745e-07,\n",
       "  'epoch': 0.98,\n",
       "  'step': 2750},\n",
       " {'eval_loss': 3.670527935028076,\n",
       "  'eval_runtime': 74.9443,\n",
       "  'eval_samples_per_second': 74.856,\n",
       "  'eval_steps_per_second': 9.367,\n",
       "  'epoch': 0.98,\n",
       "  'step': 2750},\n",
       " {'train_runtime': 4143.1342,\n",
       "  'train_samples_per_second': 5.415,\n",
       "  'train_steps_per_second': 0.677,\n",
       "  'total_flos': 2975484587999232.0,\n",
       "  'train_loss': 3.7561766544552837,\n",
       "  'epoch': 1.0,\n",
       "  'step': 2805}]"
      ]
     },
     "execution_count": 23,
     "metadata": {},
     "output_type": "execute_result"
    }
   ],
   "source": [
    "trainer.state.log_history"
   ]
  },
  {
   "cell_type": "code",
   "execution_count": 37,
   "metadata": {},
   "outputs": [],
   "source": [
    "with open(, 'w') as f:\n",
    "    for state in trainer.state.log_history:\n",
    "        f.write(f\"{state}\\n\")"
   ]
  },
  {
   "cell_type": "code",
   "execution_count": 32,
   "metadata": {},
   "outputs": [],
   "source": [
    "train_loss_list = []\n",
    "eval_loss_list = []\n",
    "epoch_train_list = []\n",
    "epoch_eval_list = []\n",
    "\n",
    "for state in trainer.state.log_history:\n",
    "    if \"loss\" in state:\n",
    "        train_loss_list.append(state[\"loss\"])\n",
    "        epoch_train_list.append(state[\"epoch\"])\n",
    "    elif \"eval_loss\" in state:\n",
    "        eval_loss_list.append(state[\"eval_loss\"])\n",
    "        epoch_eval_list.append(state[\"epoch\"])"
   ]
  },
  {
   "cell_type": "code",
   "execution_count": 33,
   "metadata": {},
   "outputs": [],
   "source": [
    "import matplotlib.pyplot as plt\n",
    "import numpy as np"
   ]
  },
  {
   "cell_type": "code",
   "execution_count": 36,
   "metadata": {},
   "outputs": [
    {
     "data": {
      "image/png": "[encoded data removed]",
      "text/plain": [
       "<Figure size 640x480 with 1 Axes>"
      ]
     },
     "metadata": {},
     "output_type": "display_data"
    }
   ],
   "source": [
    "plt.plot(epoch_train_list, train_loss_list)\n",
    "plt.plot(epoch_eval_list, eval_loss_list)\n",
    "plt.legend(['Train Loss', 'Validation Loss'])\n",
    "plt.title(\"RoBERTa Pretraining Loss\")\n",
    "plt.xlabel(\"Epoch\")\n",
    "plt.ylabel(\"Loss\")\n",
    "plt.show()"
   ]
  }
 ],
 "metadata": {
  "kernelspec": {
   "display_name": "Python 3",
   "language": "python",
   "name": "python3"
  },
  "language_info": {
   "codemirror_mode": {
    "name": "ipython",
    "version": 3
   },
   "file_extension": ".py",
   "mimetype": "text/x-python",
   "name": "python",
   "nbconvert_exporter": "python",
   "pygments_lexer": "ipython3",
   "version": "3.10.13"
  }
 },
 "nbformat": 4,
 "nbformat_minor": 2
}
