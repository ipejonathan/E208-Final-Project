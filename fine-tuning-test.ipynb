{
 "cells": [
  {
   "cell_type": "code",
   "execution_count": 43,
   "metadata": {},
   "outputs": [],
   "source": [
    "from datasets import Dataset\n",
    "\n",
    "def my_gen():\n",
    "    f1 = open(\"labeled_data_sentences.txt\", \"r\")\n",
    "    f2 = open(\"labeled_data_labels.txt\", \"r\")\n",
    "\n",
    "    sentences = f1.readlines()\n",
    "    labels = f2.readlines()\n",
    "\n",
    "    for i in range(len(sentences)):\n",
    "        yield {\"text\": sentences[i][:len(sentences[i])-1],\n",
    "               \"label\": labels[i][:len(labels[i])-1]}"
   ]
  },
  {
   "cell_type": "code",
   "execution_count": 44,
   "metadata": {},
   "outputs": [
    {
     "name": "stderr",
     "output_type": "stream",
     "text": [
      "Found cached dataset generator (C:/Users/Jonathan Ipe/.cache/huggingface/datasets/generator/default-a52d2eba600dcdeb/0.0.0)\n"
     ]
    }
   ],
   "source": [
    "dataset = Dataset.from_generator(my_gen)"
   ]
  },
  {
   "cell_type": "code",
   "execution_count": 45,
   "metadata": {},
   "outputs": [
    {
     "data": {
      "application/vnd.jupyter.widget-view+json": {
       "model_id": "83e6daa606624f5baef63ecafa671249",
       "version_major": 2,
       "version_minor": 0
      },
      "text/plain": [
       "Casting to class labels:   0%|          | 0/40005 [00:00<?, ? examples/s]"
      ]
     },
     "metadata": {},
     "output_type": "display_data"
    }
   ],
   "source": [
    "dataset = dataset.class_encode_column(\"label\")"
   ]
  },
  {
   "cell_type": "code",
   "execution_count": 47,
   "metadata": {},
   "outputs": [
    {
     "data": {
      "text/plain": [
       "{'text': '¯¯·¯¯À¯¯ ¯¯³¯¯¯¯¯ ¯¯±¯¯¯¯¯ ¯¯°¯¯¯¯¯ ¯¯¯¯ï¸¯¯ ¯¯·¯¯¯¯¯ ¯¯¿¯¯¯¯¯ ¯¯Ï¯¯¯¯¯ ¯¯ï¯¯¯¯¯ ¯¯į¯¯¯¯¯ ¯¯¯°¯¯¯¯ ¯¯¯±¯¯¯¯ ¯¯¯³¯¯¯¯ ¯¯¯±¯¯¯¯ ¯¯¯°¯¯¯¯ ¯¯¯°¯¯¯¯ ¯¯¯³¯ŀ¯¯ ¯¯¯±¯¯¯¯ ¯¯¯±¯¯¯¯ ¯¯¯°¯¯¯¯ ¯¯¯³¯Ï¯¯ ¯¯¯¯¯į¯¯ ¯¯į¯¯³¯¯ ¯¯¯¯¯¿¯¯ ¯¯¯°¯·¯¯ ¯¯¯¯¯Ï¯¯ ¯¯Ï¯¯°¯¯ ¯¯¯¯¯³¯¯ ¯¯ï¯¯±¯¯ ¯¯±¯¯·¯¯ ¯¯·¯ï¯¯¯ ¯¯¯¯¯°¯¯ ¯¯¿¯į¯¯¯ ¯¯¯¯¯±¯¯ ¯¯°¯¿¯¯¯ ¯¯¯¯ï¯¯¯ ¯¯·¯¯°¯¯ ¯¯¯¯į¯¯¯ ¯į¯¯Ï¯¯¯ ¯¯¿¯¯¯¯¯ ¯¯±¯¯¯¯¯ ¯¯¿¯¯¯¯¯ ¯į¯¯Ï¿¯¯ ¯¯¿¯¯¯¯¯ ¯¯±¯¯¯¯¯ ¯¯¿¯¯¯¯¯ ¯ï¯¯ïÏ¯¯ ¯¯·¯¯¯¯¯ ¯¯°¯¯¯¯¯ ¯¯·¯¯¯¯¯ ¯Ï¯¯įï¯¯ ¯¯¿¯¯¯¯¯ ¯¯±¯¯¯¯¯ ¯¯¿¯¯¯¯¯ ¯¯°¯°°¯¯ ¯¯Ï¯¯¯¯¯ ¯¯·¯¯¯¯¯ ¯¯Ï¯¯¯¯¯ ¯¯°¯¯¯¯¯ ¯¯Ï¯¯¯¯¯ ¯¯·¯ï¯¯¯ ¯¯Ï¯¿¯¯¯ ¯¯°¯¯¯¯¯ ¯¯ï¯¯¯¯¯',\n",
       " 'label': 5}"
      ]
     },
     "execution_count": 47,
     "metadata": {},
     "output_type": "execute_result"
    }
   ],
   "source": [
    "dataset[100]"
   ]
  },
  {
   "cell_type": "code",
   "execution_count": 48,
   "metadata": {},
   "outputs": [],
   "source": [
    "from transformers import AutoTokenizer, RobertaTokenizerFast\n",
    "\n",
    "tokenizer = RobertaTokenizerFast.from_pretrained(\"BPEtokenizer\", max_len=512)"
   ]
  },
  {
   "cell_type": "code",
   "execution_count": 49,
   "metadata": {},
   "outputs": [],
   "source": [
    "def tokenize_function(examples):\n",
    "    return tokenizer(examples[\"text\"], padding=\"max_length\", truncation=True)"
   ]
  },
  {
   "cell_type": "code",
   "execution_count": 50,
   "metadata": {},
   "outputs": [
    {
     "data": {
      "application/vnd.jupyter.widget-view+json": {
       "model_id": "5d3a8a8eb5634992b9b972a20f3c35bb",
       "version_major": 2,
       "version_minor": 0
      },
      "text/plain": [
       "Map:   0%|          | 0/40005 [00:00<?, ? examples/s]"
      ]
     },
     "metadata": {},
     "output_type": "display_data"
    }
   ],
   "source": [
    "tokenized_datasets = dataset.map(tokenize_function, batched=True)"
   ]
  },
  {
   "cell_type": "code",
   "execution_count": 51,
   "metadata": {},
   "outputs": [
    {
     "name": "stderr",
     "output_type": "stream",
     "text": [
      "Loading cached shuffled indices for dataset at C:\\Users\\Jonathan Ipe\\.cache\\huggingface\\datasets\\generator\\default-a52d2eba600dcdeb\\0.0.0\\cache-b382376c12ced46f.arrow\n"
     ]
    }
   ],
   "source": [
    "small_train_dataset = tokenized_datasets.shuffle(seed=42).select(range(1000))\n",
    "small_eval_dataset = tokenized_datasets.shuffle(seed=42).select(range(1000, 1500))"
   ]
  },
  {
   "cell_type": "markdown",
   "metadata": {},
   "source": [
    "Training"
   ]
  },
  {
   "cell_type": "code",
   "execution_count": 52,
   "metadata": {},
   "outputs": [
    {
     "name": "stderr",
     "output_type": "stream",
     "text": [
      "Some weights of RobertaForSequenceClassification were not initialized from the model checkpoint at BERT-Pretrained and are newly initialized: ['classifier.out_proj.weight', 'classifier.out_proj.bias', 'classifier.dense.weight', 'classifier.dense.bias']\n",
      "You should probably TRAIN this model on a down-stream task to be able to use it for predictions and inference.\n"
     ]
    }
   ],
   "source": [
    "from transformers import AutoModelForSequenceClassification\n",
    "\n",
    "model = AutoModelForSequenceClassification.from_pretrained(\"BERT-Pretrained\", num_labels=9)"
   ]
  },
  {
   "cell_type": "code",
   "execution_count": 53,
   "metadata": {},
   "outputs": [],
   "source": [
    "from transformers import TrainingArguments\n",
    "\n",
    "training_args = TrainingArguments(output_dir=\"test_trainer\")"
   ]
  },
  {
   "cell_type": "code",
   "execution_count": 54,
   "metadata": {},
   "outputs": [],
   "source": [
    "import numpy as np\n",
    "import evaluate\n",
    "\n",
    "metric = evaluate.load(\"accuracy\")"
   ]
  },
  {
   "cell_type": "code",
   "execution_count": 55,
   "metadata": {},
   "outputs": [],
   "source": [
    "def compute_metrics(eval_pred):\n",
    "    logits, labels = eval_pred\n",
    "    predictions = np.argmax(logits, axis=-1)\n",
    "    return metric.compute(predictions=predictions, references=labels)"
   ]
  },
  {
   "cell_type": "code",
   "execution_count": 56,
   "metadata": {},
   "outputs": [],
   "source": [
    "from transformers import TrainingArguments, Trainer\n",
    "\n",
    "training_args = TrainingArguments(output_dir=\"test_trainer\", \n",
    "                                  evaluation_strategy=\"epoch\")\n",
    "\n",
    "trainer = Trainer(\n",
    "    model=model,\n",
    "    args=training_args,\n",
    "    train_dataset=small_train_dataset,\n",
    "    eval_dataset=small_eval_dataset,\n",
    "    compute_metrics=compute_metrics,\n",
    ")"
   ]
  },
  {
   "cell_type": "code",
   "execution_count": 57,
   "metadata": {},
   "outputs": [
    {
     "data": {
      "application/vnd.jupyter.widget-view+json": {
       "model_id": "fb24c6485fd94bbb9db133e43d3d2232",
       "version_major": 2,
       "version_minor": 0
      },
      "text/plain": [
       "  0%|          | 0/375 [00:00<?, ?it/s]"
      ]
     },
     "metadata": {},
     "output_type": "display_data"
    },
    {
     "data": {
      "application/vnd.jupyter.widget-view+json": {
       "model_id": "d44b4f210f7844719767793cc4048c34",
       "version_major": 2,
       "version_minor": 0
      },
      "text/plain": [
       "  0%|          | 0/63 [00:00<?, ?it/s]"
      ]
     },
     "metadata": {},
     "output_type": "display_data"
    },
    {
     "name": "stdout",
     "output_type": "stream",
     "text": [
      "{'eval_loss': 2.1849923133850098, 'eval_accuracy': 0.144, 'eval_runtime': 11.2557, 'eval_samples_per_second': 44.422, 'eval_steps_per_second': 5.597, 'epoch': 1.0}\n"
     ]
    },
    {
     "data": {
      "application/vnd.jupyter.widget-view+json": {
       "model_id": "35d9ce54d648465e8dcbba926652547a",
       "version_major": 2,
       "version_minor": 0
      },
      "text/plain": [
       "  0%|          | 0/63 [00:00<?, ?it/s]"
      ]
     },
     "metadata": {},
     "output_type": "display_data"
    },
    {
     "name": "stdout",
     "output_type": "stream",
     "text": [
      "{'eval_loss': 2.213439702987671, 'eval_accuracy': 0.168, 'eval_runtime': 11.2847, 'eval_samples_per_second': 44.308, 'eval_steps_per_second': 5.583, 'epoch': 2.0}\n"
     ]
    },
    {
     "data": {
      "application/vnd.jupyter.widget-view+json": {
       "model_id": "71d7bf74a54141d59d094155fd3065cd",
       "version_major": 2,
       "version_minor": 0
      },
      "text/plain": [
       "  0%|          | 0/63 [00:00<?, ?it/s]"
      ]
     },
     "metadata": {},
     "output_type": "display_data"
    },
    {
     "name": "stdout",
     "output_type": "stream",
     "text": [
      "{'eval_loss': 2.1105146408081055, 'eval_accuracy': 0.21, 'eval_runtime': 10.9829, 'eval_samples_per_second': 45.525, 'eval_steps_per_second': 5.736, 'epoch': 3.0}\n",
      "{'train_runtime': 455.0712, 'train_samples_per_second': 6.592, 'train_steps_per_second': 0.824, 'train_loss': 2.179404947916667, 'epoch': 3.0}\n"
     ]
    },
    {
     "data": {
      "text/plain": [
       "TrainOutput(global_step=375, training_loss=2.179404947916667, metrics={'train_runtime': 455.0712, 'train_samples_per_second': 6.592, 'train_steps_per_second': 0.824, 'train_loss': 2.179404947916667, 'epoch': 3.0})"
      ]
     },
     "execution_count": 57,
     "metadata": {},
     "output_type": "execute_result"
    }
   ],
   "source": [
    "trainer.train()"
   ]
  },
  {
   "cell_type": "code",
   "execution_count": null,
   "metadata": {},
   "outputs": [],
   "source": []
  }
 ],
 "metadata": {
  "kernelspec": {
   "display_name": "E208_F23",
   "language": "python",
   "name": "python3"
  },
  "language_info": {
   "codemirror_mode": {
    "name": "ipython",
    "version": 3
   },
   "file_extension": ".py",
   "mimetype": "text/x-python",
   "name": "python",
   "nbconvert_exporter": "python",
   "pygments_lexer": "ipython3",
   "version": "3.10.13"
  }
 },
 "nbformat": 4,
 "nbformat_minor": 2
}
