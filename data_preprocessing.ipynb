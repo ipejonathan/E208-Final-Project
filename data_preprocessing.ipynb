{
 "cells": [
  {
   "cell_type": "code",
   "execution_count": 2,
   "metadata": {},
   "outputs": [],
   "source": [
    "import pickle\n",
    "from zipfile import ZipFile\n",
    "import numpy as np\n",
    "import matplotlib.cm as cm\n",
    "import matplotlib.pyplot as plt"
   ]
  },
  {
   "cell_type": "code",
   "execution_count": 3,
   "metadata": {},
   "outputs": [
    {
     "name": "stdout",
     "output_type": "stream",
     "text": [
      "File Name                                             Modified             Size\n",
      "9_way_dataset.pkl                              2023-10-19 21:18:44    161593492\n",
      "File Name                                             Modified             Size\n",
      "100_way_dataset.pkl                            2023-10-19 21:20:32    400855173\n"
     ]
    }
   ],
   "source": [
    "with ZipFile('data/9_way_dataset.zip', 'r') as zip:\n",
    "    zip.printdir()\n",
    "    # zip.extractall(path='/home/jipe/E208-Final-Project/data')\n",
    "    zip.extractall()\n",
    "\n",
    "with ZipFile('data/100_way_dataset.zip', 'r') as zip:\n",
    "    zip.printdir()\n",
    "    # zip.extractall(path='/home/jipe/E208-Final-Project/data')\n",
    "    zip.extractall()"
   ]
  },
  {
   "cell_type": "code",
   "execution_count": 4,
   "metadata": {},
   "outputs": [],
   "source": [
    "with open('9_way_dataset.pkl', 'rb') as f:\n",
    "    data = pickle.load(f)"
   ]
  },
  {
   "cell_type": "code",
   "execution_count": 5,
   "metadata": {},
   "outputs": [
    {
     "name": "stdout",
     "output_type": "stream",
     "text": [
      "(64, 64)\n"
     ]
    }
   ],
   "source": [
    "testarr = np.array(data[0][0])\n",
    "testarr = np.append(testarr, np.zeros((64, 2)), axis=1)\n",
    "testarr_int = testarr.astype(np.uint8)\n",
    "\n",
    "print(testarr.shape)"
   ]
  },
  {
   "cell_type": "code",
   "execution_count": 6,
   "metadata": {},
   "outputs": [
    {
     "data": {
      "image/png": "[encoded data removed]",
      "text/plain": [
       "<Figure size 640x480 with 1 Axes>"
      ]
     },
     "metadata": {},
     "output_type": "display_data"
    }
   ],
   "source": [
    "plt.imshow(testarr, cmap=cm.Greys_r)\n",
    "plt.show()"
   ]
  },
  {
   "cell_type": "code",
   "execution_count": 7,
   "metadata": {},
   "outputs": [
    {
     "data": {
      "text/plain": [
       "27999"
      ]
     },
     "execution_count": 7,
     "metadata": {},
     "output_type": "execute_result"
    }
   ],
   "source": [
    "len(data[6])"
   ]
  },
  {
   "cell_type": "code",
   "execution_count": 8,
   "metadata": {},
   "outputs": [
    {
     "data": {
      "text/plain": [
       "'Scriabin,_Aleksandr'"
      ]
     },
     "execution_count": 8,
     "metadata": {},
     "output_type": "execute_result"
    }
   ],
   "source": [
    "data[5][0]"
   ]
  },
  {
   "cell_type": "markdown",
   "metadata": {},
   "source": [
    " # Some helper functions for tokenization"
   ]
  },
  {
   "cell_type": "code",
   "execution_count": 11,
   "metadata": {},
   "outputs": [],
   "source": [
    "# Function to convert a binary list to an integer\n",
    "def binary_to_int(binary_list):\n",
    "    return int(\"\".join(str(x) for x in binary_list), 2)\n",
    "\n",
    "# Function to convert an integer to a Unicode character\n",
    "def int_to_unicode(value):\n",
    "    # Adjust the Unicode range if needed\n",
    "    return chr(65 + value)"
   ]
  },
  {
   "cell_type": "code",
   "execution_count": 12,
   "metadata": {},
   "outputs": [],
   "source": [
    "# Process each 2D array in your dataset\n",
    "def process_dataset(dataset):\n",
    "    sentences = []\n",
    "\n",
    "    for array in dataset:\n",
    "        words = []\n",
    "        for row in array:\n",
    "            # Split the 64-bit row into 8-bit chunks\n",
    "            # chunks = [row[i:i + 8] for i in range(0, len(row), 8)]\n",
    "            chunks = [row[i:i + 4] for i in range(0, len(row), 4)]\n",
    "            \n",
    "            # Convert each chunk to a Unicode character and form a word\n",
    "            word = ''.join(int_to_unicode(binary_to_int(chunk)) for chunk in chunks)\n",
    "            words.append(word)\n",
    "\n",
    "        # Combine words to form a sentence\n",
    "        sentence = ' '.join(words)\n",
    "        sentences.append(sentence)\n",
    "\n",
    "    return sentences"
   ]
  },
  {
   "cell_type": "code",
   "execution_count": 13,
   "metadata": {},
   "outputs": [
    {
     "name": "stdout",
     "output_type": "stream",
     "text": [
      "[[0 0 0 ... 0 0 0]\n",
      " [0 0 0 ... 0 0 0]\n",
      " [0 0 0 ... 0 0 0]\n",
      " ...\n",
      " [0 0 0 ... 0 0 0]\n",
      " [0 0 0 ... 0 0 0]\n",
      " [0 0 0 ... 0 0 0]]\n"
     ]
    }
   ],
   "source": [
    "print(data[0][0])"
   ]
  },
  {
   "cell_type": "code",
   "execution_count": 14,
   "metadata": {},
   "outputs": [
    {
     "name": "stdout",
     "output_type": "stream",
     "text": [
      "Sentences written to test.txt\n"
     ]
    }
   ],
   "source": [
    "# Example dataset\n",
    "# dataset = [np.random.randint(2, size=(64, 64)) for _ in range(10)] # 10 2D arrays for demonstration\n",
    "dataset = [testarr_int]\n",
    "# dataset = data[0] + data[2] + data[4]\n",
    "\n",
    "# Process the dataset\n",
    "sentences = process_dataset(dataset)\n",
    "\n",
    "# Define the file path for the output file\n",
    "output_file_path = 'test.txt'\n",
    "\n",
    "# Write sentences to the file\n",
    "with open(output_file_path, 'w', encoding='utf-8') as file:\n",
    "    for sentence in sentences:\n",
    "        file.write(sentence + '\\n')\n",
    "\n",
    "# Inform that the writing process is complete\n",
    "print(f'Sentences written to {output_file_path}')"
   ]
  },
  {
   "cell_type": "code",
   "execution_count": 15,
   "metadata": {},
   "outputs": [
    {
     "data": {
      "text/plain": [
       "1"
      ]
     },
     "execution_count": 15,
     "metadata": {},
     "output_type": "execute_result"
    }
   ],
   "source": [
    "len(sentences)"
   ]
  },
  {
   "cell_type": "code",
   "execution_count": 16,
   "metadata": {},
   "outputs": [
    {
     "name": "stdout",
     "output_type": "stream",
     "text": [
      "AAAABAAAACBEAAAA AAAAIAAAAACAAAAA AAAIAAAAACBEAAAA AAAAIAAAAAAAAAAA AAAAAAAAACDEAAAA AAAABAAAAAAAAAAA AAAAAIAAAACAAAAA AAAABAAAACBEAAAA AAAAIAAAAAAAAAAA AAIBAAAAAAAAAAAA AAEAIAAAAAAAAAAA AAIAIAAAAAAAAAAA AACAEAAAAAAAAAAA AACAEAAAAAAAAAAA AABACAAAAAAAAAAA AACACAAAAAAAAAAA AAAIBAAAAAAAAAAA AAAEAIAAAAAAAAAA AAAAAIAAAAAAAAAA AAAEAIAAAAAAAAAA AAAAAEAAAAAAAAAA AAACAEAAAAAAAAAA AAAAEAAACAAAAAAA AAABACAAAAAAAAAA AAAAIBAAAAAAAAAA AAABACAAAAAAAAAA AAACAEAAAAAAAAAA AAACAEAAAAAAAAAA AAABACAAAAAAAAAA AAACAEAAAAAAAAAA AAAEAIAAAAAAAAAA AAAIBAAAAAAAAAAA AAACAEAAAAAAAAAA AAAEAIAAAAAAAAAA AAAIBAAAAAAAAAAA AABACAAAAAAAAAAA AAAIBAAAAAAAAAAA AAAEAIAAAAAAAAAA AAACAEAAAAAAAAAA AAAEAIAAAAAAAAAA AAAIBAAAAAAAAAAA AACACAAAAAAAAAAA AACAEAAAAAAAAAAA AACACAAAAAAAAAAA AAAIBAAAAAAAAAAA AABACAAAAAAAAAAA AACAEAAAAAAAAAAA AAEAIAAAAAAAAAAA AAEAIAAAAAAAAAAA AACAEAAAAAAAAAAA AACAEAAAAAAAAAAA AACACAAAAAAAAAAA AAAIBAAAAAAAAAAA AAAIBAAAAAAAAAAA AAAEAIAAAAAAAAAA AAAEAIAAAAAAAAAA AAACAEAAAAAAAAAA AAABACAAAAAAAAAA AAAAIBAAAAAAAAAA AAAABAAAIAAAAAAA AEAAAAAAACBEAAAA AAEAAAAAAAAAAAAA AAAIAAAAACBEAAAA AAAEAAAAAAAAAAAA\n"
     ]
    }
   ],
   "source": [
    "print(sentences[0])"
   ]
  },
  {
   "cell_type": "code",
   "execution_count": null,
   "metadata": {},
   "outputs": [],
   "source": []
  }
 ],
 "metadata": {
  "kernelspec": {
   "display_name": "E208_F23",
   "language": "python",
   "name": "e208_f23"
  },
  "language_info": {
   "codemirror_mode": {
    "name": "ipython",
    "version": 3
   },
   "file_extension": ".py",
   "mimetype": "text/x-python",
   "name": "python",
   "nbconvert_exporter": "python",
   "pygments_lexer": "ipython3",
   "version": "3.10.12"
  }
 },
 "nbformat": 4,
 "nbformat_minor": 2
}
