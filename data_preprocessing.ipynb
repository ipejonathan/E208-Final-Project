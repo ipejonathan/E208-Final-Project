{
 "cells": [
  {
   "cell_type": "code",
   "execution_count": 1,
   "metadata": {},
   "outputs": [],
   "source": [
    "import pickle\n",
    "from zipfile import ZipFile\n",
    "import numpy as np\n",
    "import matplotlib.cm as cm\n",
    "import matplotlib.pyplot as plt"
   ]
  },
  {
   "cell_type": "code",
   "execution_count": 4,
   "metadata": {},
   "outputs": [
    {
     "name": "stdout",
     "output_type": "stream",
     "text": [
      "File Name                                             Modified             Size\n",
      "9_way_dataset.pkl                              2023-10-19 21:18:44    161593492\n",
      "File Name                                             Modified             Size\n",
      "100_way_dataset.pkl                            2023-10-19 21:20:32    400855173\n"
     ]
    }
   ],
   "source": [
    "with ZipFile('data/9_way_dataset.zip', 'r') as zip:\n",
    "    zip.printdir()\n",
    "    zip.extractall(path='data')\n",
    "\n",
    "with ZipFile('data/100_way_dataset.zip', 'r') as zip:\n",
    "    zip.printdir()\n",
    "    zip.extractall(path='/home/jipe/E208-Final-Project/data')"
   ]
  },
  {
   "cell_type": "code",
   "execution_count": 5,
   "metadata": {},
   "outputs": [],
   "source": [
    "with open('data/9_way_dataset.pkl', 'rb') as f:\n",
    "    loaded_data = pickle.load(f)"
   ]
  },
  {
   "cell_type": "markdown",
   "metadata": {},
   "source": [
    "Data[0]: batch of data, 27999 points, each 64x62 \\\n",
    "Data[1]: name labels, 27999 points, string \\\n",
    "Data[2]: batch of data, 6003 points, each 64x62 \\\n",
    "Data[3]: name labels, 6003 points, string \\\n",
    "Data[4]: batch of data, 6003 points, each 64x62 \\\n",
    "Data[5]: name labels, 6003 points, string \\\n",
    "Data[6]: something, 27999 points, tuples (integer string, int, int) \\\n",
    "Data[7]: something, 6003 points, tuples (integer string, int, int) \\\n",
    "Data[8]: something, 6003 points, tuples (integer string, int, int)"
   ]
  },
  {
   "cell_type": "code",
   "execution_count": 9,
   "metadata": {},
   "outputs": [
    {
     "name": "stdout",
     "output_type": "stream",
     "text": [
      "27999\n",
      "('508549', 7, 71)\n",
      "(3,)\n"
     ]
    }
   ],
   "source": [
    "print(len(loaded_data[6]))\n",
    "test = np.array(loaded_data[8][0])\n",
    "print(loaded_data[8][0])\n",
    "print(test.shape)"
   ]
  },
  {
   "cell_type": "code",
   "execution_count": 10,
   "metadata": {},
   "outputs": [
    {
     "name": "stdout",
     "output_type": "stream",
     "text": [
      "(40005, 64, 62)\n"
     ]
    }
   ],
   "source": [
    "data = np.array(loaded_data[0]+loaded_data[2]+loaded_data[4])\n",
    "print(data.shape)"
   ]
  },
  {
   "cell_type": "code",
   "execution_count": 11,
   "metadata": {},
   "outputs": [
    {
     "name": "stdout",
     "output_type": "stream",
     "text": [
      "(40005, 64, 64)\n"
     ]
    }
   ],
   "source": [
    "data = np.append(data, np.zeros((data.shape[0], 64, 2)), axis=2)\n",
    "print(data.shape)"
   ]
  },
  {
   "cell_type": "code",
   "execution_count": 12,
   "metadata": {},
   "outputs": [
    {
     "name": "stdout",
     "output_type": "stream",
     "text": [
      "(64, 64)\n"
     ]
    }
   ],
   "source": [
    "testarr = np.array(data[0])\n",
    "print(testarr.shape)"
   ]
  },
  {
   "cell_type": "code",
   "execution_count": 13,
   "metadata": {},
   "outputs": [
    {
     "data": {
      "image/png": "[encoded data removed]",
      "text/plain": [
       "<Figure size 640x480 with 1 Axes>"
      ]
     },
     "metadata": {},
     "output_type": "display_data"
    }
   ],
   "source": [
    "plt.imshow(testarr, cmap=cm.Greys_r)\n",
    "plt.show()"
   ]
  },
  {
   "cell_type": "code",
   "execution_count": 14,
   "metadata": {},
   "outputs": [],
   "source": [
    "# creates a unicode encoding map of the first 256 utf-8 chars\n",
    "\n",
    "encoding_map = {}\n",
    "\n",
    "for i in range(256):\n",
    "    encoding_map[i] = chr(i+175)"
   ]
  },
  {
   "cell_type": "code",
   "execution_count": 15,
   "metadata": {},
   "outputs": [
    {
     "name": "stdout",
     "output_type": "stream",
     "text": [
      "{0: '¯', 1: '°', 2: '±', 3: '²', 4: '³', 5: '´', 6: 'µ', 7: '¶', 8: '·', 9: '¸', 10: '¹', 11: 'º', 12: '»', 13: '¼', 14: '½', 15: '¾', 16: '¿', 17: 'À', 18: 'Á', 19: 'Â', 20: 'Ã', 21: 'Ä', 22: 'Å', 23: 'Æ', 24: 'Ç', 25: 'È', 26: 'É', 27: 'Ê', 28: 'Ë', 29: 'Ì', 30: 'Í', 31: 'Î', 32: 'Ï', 33: 'Ð', 34: 'Ñ', 35: 'Ò', 36: 'Ó', 37: 'Ô', 38: 'Õ', 39: 'Ö', 40: '×', 41: 'Ø', 42: 'Ù', 43: 'Ú', 44: 'Û', 45: 'Ü', 46: 'Ý', 47: 'Þ', 48: 'ß', 49: 'à', 50: 'á', 51: 'â', 52: 'ã', 53: 'ä', 54: 'å', 55: 'æ', 56: 'ç', 57: 'è', 58: 'é', 59: 'ê', 60: 'ë', 61: 'ì', 62: 'í', 63: 'î', 64: 'ï', 65: 'ð', 66: 'ñ', 67: 'ò', 68: 'ó', 69: 'ô', 70: 'õ', 71: 'ö', 72: '÷', 73: 'ø', 74: 'ù', 75: 'ú', 76: 'û', 77: 'ü', 78: 'ý', 79: 'þ', 80: 'ÿ', 81: 'Ā', 82: 'ā', 83: 'Ă', 84: 'ă', 85: 'Ą', 86: 'ą', 87: 'Ć', 88: 'ć', 89: 'Ĉ', 90: 'ĉ', 91: 'Ċ', 92: 'ċ', 93: 'Č', 94: 'č', 95: 'Ď', 96: 'ď', 97: 'Đ', 98: 'đ', 99: 'Ē', 100: 'ē', 101: 'Ĕ', 102: 'ĕ', 103: 'Ė', 104: 'ė', 105: 'Ę', 106: 'ę', 107: 'Ě', 108: 'ě', 109: 'Ĝ', 110: 'ĝ', 111: 'Ğ', 112: 'ğ', 113: 'Ġ', 114: 'ġ', 115: 'Ģ', 116: 'ģ', 117: 'Ĥ', 118: 'ĥ', 119: 'Ħ', 120: 'ħ', 121: 'Ĩ', 122: 'ĩ', 123: 'Ī', 124: 'ī', 125: 'Ĭ', 126: 'ĭ', 127: 'Į', 128: 'į', 129: 'İ', 130: 'ı', 131: 'Ĳ', 132: 'ĳ', 133: 'Ĵ', 134: 'ĵ', 135: 'Ķ', 136: 'ķ', 137: 'ĸ', 138: 'Ĺ', 139: 'ĺ', 140: 'Ļ', 141: 'ļ', 142: 'Ľ', 143: 'ľ', 144: 'Ŀ', 145: 'ŀ', 146: 'Ł', 147: 'ł', 148: 'Ń', 149: 'ń', 150: 'Ņ', 151: 'ņ', 152: 'Ň', 153: 'ň', 154: 'ŉ', 155: 'Ŋ', 156: 'ŋ', 157: 'Ō', 158: 'ō', 159: 'Ŏ', 160: 'ŏ', 161: 'Ő', 162: 'ő', 163: 'Œ', 164: 'œ', 165: 'Ŕ', 166: 'ŕ', 167: 'Ŗ', 168: 'ŗ', 169: 'Ř', 170: 'ř', 171: 'Ś', 172: 'ś', 173: 'Ŝ', 174: 'ŝ', 175: 'Ş', 176: 'ş', 177: 'Š', 178: 'š', 179: 'Ţ', 180: 'ţ', 181: 'Ť', 182: 'ť', 183: 'Ŧ', 184: 'ŧ', 185: 'Ũ', 186: 'ũ', 187: 'Ū', 188: 'ū', 189: 'Ŭ', 190: 'ŭ', 191: 'Ů', 192: 'ů', 193: 'Ű', 194: 'ű', 195: 'Ų', 196: 'ų', 197: 'Ŵ', 198: 'ŵ', 199: 'Ŷ', 200: 'ŷ', 201: 'Ÿ', 202: 'Ź', 203: 'ź', 204: 'Ż', 205: 'ż', 206: 'Ž', 207: 'ž', 208: 'ſ', 209: 'ƀ', 210: 'Ɓ', 211: 'Ƃ', 212: 'ƃ', 213: 'Ƅ', 214: 'ƅ', 215: 'Ɔ', 216: 'Ƈ', 217: 'ƈ', 218: 'Ɖ', 219: 'Ɗ', 220: 'Ƌ', 221: 'ƌ', 222: 'ƍ', 223: 'Ǝ', 224: 'Ə', 225: 'Ɛ', 226: 'Ƒ', 227: 'ƒ', 228: 'Ɠ', 229: 'Ɣ', 230: 'ƕ', 231: 'Ɩ', 232: 'Ɨ', 233: 'Ƙ', 234: 'ƙ', 235: 'ƚ', 236: 'ƛ', 237: 'Ɯ', 238: 'Ɲ', 239: 'ƞ', 240: 'Ɵ', 241: 'Ơ', 242: 'ơ', 243: 'Ƣ', 244: 'ƣ', 245: 'Ƥ', 246: 'ƥ', 247: 'Ʀ', 248: 'Ƨ', 249: 'ƨ', 250: 'Ʃ', 251: 'ƪ', 252: 'ƫ', 253: 'Ƭ', 254: 'ƭ', 255: 'Ʈ'}\n"
     ]
    }
   ],
   "source": [
    "print(encoding_map)"
   ]
  },
  {
   "cell_type": "code",
   "execution_count": 16,
   "metadata": {},
   "outputs": [],
   "source": [
    "sentences = []\n",
    "\n",
    "for datum in data:\n",
    "    sentence = ''\n",
    "    for i in range(datum.shape[0]):\n",
    "        word = ''\n",
    "        for j in range(0, datum.shape[1], 8):\n",
    "            char = datum[i,j:j+8]\n",
    "\n",
    "            decimal = 0\n",
    "            for k in range(len(char)-1, -1, -1):\n",
    "                decimal += char[k] * (2 ** k)\n",
    "            word += encoding_map[decimal]\n",
    "\n",
    "        sentence += ' ' + word\n",
    "    \n",
    "    # gets rid of extra space\n",
    "    sentences.append(sentence[1:])"
   ]
  },
  {
   "cell_type": "code",
   "execution_count": 17,
   "metadata": {},
   "outputs": [],
   "source": [
    "with open('labeled_data_sentences.txt', 'w') as f:\n",
    "    for sentence in sentences:\n",
    "        f.write(f\"{sentence}\\n\")"
   ]
  },
  {
   "cell_type": "code",
   "execution_count": null,
   "metadata": {},
   "outputs": [],
   "source": [
    "labels = loaded_data[1]+loaded_data[3]+loaded_data[5]"
   ]
  },
  {
   "cell_type": "code",
   "execution_count": null,
   "metadata": {},
   "outputs": [],
   "source": [
    "with open('labeled_data_labels.txt', 'w') as f:\n",
    "    for label in labels:\n",
    "        f.write(f\"{label}\\n\")"
   ]
  },
  {
   "cell_type": "code",
   "execution_count": 14,
   "metadata": {},
   "outputs": [
    {
     "name": "stdout",
     "output_type": "stream",
     "text": [
      "\n",
      "\n",
      "\n"
     ]
    },
    {
     "data": {
      "text/plain": [
       "['./note-classifier-vocab.json', './note-classifier-merges.txt']"
      ]
     },
     "execution_count": 14,
     "metadata": {},
     "output_type": "execute_result"
    }
   ],
   "source": [
    "from tokenizers import ByteLevelBPETokenizer\n",
    "\n",
    "# Initialize a tokenizer\n",
    "tokenizer = ByteLevelBPETokenizer()\n",
    "\n",
    "# Customize training\n",
    "tokenizer.train(files=['sentences.txt'], vocab_size=50_000, min_frequency=2, special_tokens=[\n",
    "    \"<s>\",\n",
    "    \"<pad>\",\n",
    "    \"</s>\",\n",
    "    \"<unk>\",\n",
    "    \"<mask>\",\n",
    "])\n",
    "\n",
    "# Save files to disk\n",
    "tokenizer.save_model(\".\", \"note-classifier\")\n"
   ]
  }
 ],
 "metadata": {
  "kernelspec": {
   "display_name": "E208",
   "language": "python",
   "name": "python3"
  },
  "language_info": {
   "codemirror_mode": {
    "name": "ipython",
    "version": 3
   },
   "file_extension": ".py",
   "mimetype": "text/x-python",
   "name": "python",
   "nbconvert_exporter": "python",
   "pygments_lexer": "ipython3",
   "version": "3.10.13"
  }
 },
 "nbformat": 4,
 "nbformat_minor": 2
}
